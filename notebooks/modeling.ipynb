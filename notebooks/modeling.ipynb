{
 "cells": [
  {
   "cell_type": "markdown",
   "metadata": {},
   "source": [
    "# Modeling<a id='Modeling'></a>"
   ]
  },
  {
   "cell_type": "markdown",
   "metadata": {},
   "source": [
    "## 1 Contents<a id='1_Contents'></a>\n",
    "* [Preprocessing](#Preprocessing)\n",
    "  * [1 Contents](#1_Contents)\n",
    "  * [2 Introduction](#2_Introduction)\n",
    "  * [3 Imports](#3_Imports)\n",
    "  * [4 Load the data](#4_Load_the_data)\n",
    "  * [5 Baseline](#5_Baseline)\n",
    "  * [6 Simple Regression](#6_Simple_Regression)\n",
    "  * [7 Random Forest](#7_Random_Forest)\n",
    "  * [8 More Sophisticated Regression](#8_More_Sophisticated_Regression)\n",
    "  * [9 Save the model](#9_Save_the_model)\n",
    "  * [10 Summary](#10_Summary)"
   ]
  },
  {
   "cell_type": "markdown",
   "metadata": {},
   "source": [
    "## 2 Introduction<a id='2_Introduction'></a>"
   ]
  },
  {
   "cell_type": "markdown",
   "metadata": {},
   "source": [
    "We train various models on our prepared data, starting with simplistic baseline models, then a simple linear regression model, and then some more complex models. In each case, we are actually training three models: one for shots on goal, one for assists, and one for goals. However, we see that the performance for each type of model follows a similar pattern throughout, regardless of which stat we are considering."
   ]
  },
  {
   "cell_type": "markdown",
   "metadata": {},
   "source": [
    "## 3 Imports<a id='3_Imports'></a>"
   ]
  },
  {
   "cell_type": "code",
   "execution_count": 1,
   "metadata": {},
   "outputs": [],
   "source": [
    "import pandas as pd\n",
    "import matplotlib.pyplot as plt\n",
    "import datetime as dt\n",
    "import numpy as np\n",
    "\n",
    "from sklearn import __version__ as sklearn_version\n",
    "from sklearn.model_selection import GridSearchCV, learning_curve\n",
    "from sklearn.preprocessing import StandardScaler, PolynomialFeatures\n",
    "from sklearn.linear_model import LinearRegression\n",
    "from sklearn.ensemble import RandomForestRegressor\n",
    "from sklearn.metrics import r2_score, mean_squared_error, mean_absolute_error\n",
    "from sklearn.pipeline import make_pipeline\n",
    "\n",
    "from library.sb_utils import save_file"
   ]
  },
  {
   "cell_type": "markdown",
   "metadata": {},
   "source": [
    "## 4 Load the data<a id='4_Load_the_data'></a>"
   ]
  },
  {
   "cell_type": "code",
   "execution_count": 2,
   "metadata": {},
   "outputs": [],
   "source": [
    "datapath = '../data/processed/'\n",
    "\n",
    "X_lastwindows = pd.read_csv(datapath + 'X_lastwindows.csv')\n",
    "X_test = pd.read_csv(datapath + 'X_test.csv')\n",
    "X_train = pd.read_csv(datapath + 'X_train.csv')\n",
    "Y_lastwindows = pd.read_csv(datapath + 'Y_lastwindows.csv')\n",
    "Y_test = pd.read_csv(datapath + 'Y_test.csv')\n",
    "Y_train = pd.read_csv(datapath + 'Y_train.csv')"
   ]
  },
  {
   "cell_type": "markdown",
   "metadata": {},
   "source": [
    "## 5 Baselines<a id='5_Baselines'></a>"
   ]
  },
  {
   "cell_type": "markdown",
   "metadata": {},
   "source": [
    "We consider three overly-simplistic models to establish a baseline: the first is a dummy model which takes the median of each value in Y_train and uses that as the prediction, the second is a model which selects just the most recent window feature as the prediction, and the third takes the average of each player's performance over all five recent windows."
   ]
  },
  {
   "cell_type": "code",
   "execution_count": 3,
   "metadata": {},
   "outputs": [],
   "source": [
    "# We manually define dummy predictions instead of using sklearn DummyRegressor because we want dataframes instead of numpy arrays.\n",
    "\n",
    "Y_tr_dummy = pd.DataFrame(index=Y_train.index)\n",
    "Y_te_dummy = pd.DataFrame(index=Y_test.index)\n",
    "Y_lw_dummy = pd.DataFrame(index=Y_lastwindows.index)\n",
    "\n",
    "medians = Y_train.median()\n",
    "\n",
    "for df in [Y_tr_dummy, Y_te_dummy, Y_lw_dummy]:\n",
    "    for col in ['goals_per_games', 'assists_per_games', 'shots_on_goal_per_games']:\n",
    "        df[col] = medians[col]"
   ]
  },
  {
   "cell_type": "code",
   "execution_count": 4,
   "metadata": {},
   "outputs": [],
   "source": [
    "# Again, we manually define our simplistic baseline prediction functions.\n",
    "\n",
    "def predict_most_recent(X):         # simply predicts that each player will repeat their performance from the previous window\n",
    "    Y = pd.DataFrame(index=X.index)\n",
    "    Y['assists_per_games'] = X['assists_1_per_games_1']\n",
    "    Y['goals_per_games'] = X['goals_1_per_games_1']\n",
    "    Y['shots_on_goal_per_games'] = X['shots_on_goal_1_per_games_1']\n",
    "    return Y\n",
    "\n",
    "def recent_avg(X,stat):\n",
    "    avg = (X[stat + '_1_per_games_1'] + X[stat + '_2_per_games_2'] + X[stat + '_3_per_games_3'] + X[stat + '_4_per_games_4'] + X[stat + '_5_per_games_5']) / 5\n",
    "    return avg\n",
    "\n",
    "def predict_average(X):             # predicts each player's average over all five windows\n",
    "    Y = pd.DataFrame(index=X.index)\n",
    "    Y['assists_per_games'] = recent_avg(X,'assists')\n",
    "    Y['goals_per_games'] = recent_avg(X,'goals')\n",
    "    Y['shots_on_goal_per_games'] = recent_avg(X,'shots_on_goal')\n",
    "    return Y"
   ]
  },
  {
   "cell_type": "code",
   "execution_count": 5,
   "metadata": {},
   "outputs": [],
   "source": [
    "def baseline_performance(f, stat, X, Y):\n",
    "    Y_f = f(X)      # f could be the identity, if instead of feature data X we pass predicted data. (We do this for the dummy prediction.)\n",
    "    r2 = r2_score(Y[stat], Y_f[stat])\n",
    "    mae = mean_absolute_error(Y[stat], Y_f[stat])\n",
    "    mse = mean_squared_error(Y[stat], Y_f[stat])\n",
    "    print(f'r2_score: {r2:.3f}, mae: {mae:.3f}, mse: {mse:.3f}')"
   ]
  },
  {
   "cell_type": "code",
   "execution_count": 6,
   "metadata": {},
   "outputs": [],
   "source": [
    "def show_base(stat):\n",
    "    print(stat + ' using dummy (median):')\n",
    "    print('train:')\n",
    "    baseline_performance(lambda x:x, stat, Y_tr_dummy, Y_train) # instead of passing f = dummy and X, we pass identity function and dummy(X)\n",
    "    print('test:')\n",
    "    baseline_performance(lambda x:x, stat, Y_te_dummy, Y_test)\n",
    "    print('lw:')\n",
    "    baseline_performance(lambda x:x, stat, Y_lw_dummy, Y_lastwindows)\n",
    "    print('\\n')\n",
    "    print(stat + ' using most recent:')\n",
    "    print('train:')\n",
    "    baseline_performance(predict_most_recent, stat, X_train, Y_train)\n",
    "    print('test:')\n",
    "    baseline_performance(predict_most_recent, stat, X_test, Y_test)\n",
    "    print('lw:')\n",
    "    baseline_performance(predict_most_recent, stat, X_lastwindows, Y_lastwindows)\n",
    "    print('\\n')\n",
    "    print(stat + ' using average:')\n",
    "    print('train:')\n",
    "    baseline_performance(predict_average, stat, X_train, Y_train)\n",
    "    print('test:')\n",
    "    baseline_performance(predict_average, stat, X_test, Y_test)\n",
    "    print('lw:')\n",
    "    baseline_performance(predict_average, stat, X_lastwindows, Y_lastwindows)"
   ]
  },
  {
   "cell_type": "code",
   "execution_count": 7,
   "metadata": {},
   "outputs": [
    {
     "data": {
      "text/plain": [
       "assists_per_games          0.217391\n",
       "goals_per_games            0.115385\n",
       "shots_on_goal_per_games    1.523810\n",
       "dtype: float64"
      ]
     },
     "execution_count": 7,
     "metadata": {},
     "output_type": "execute_result"
    }
   ],
   "source": [
    "Y_train.median()"
   ]
  },
  {
   "cell_type": "markdown",
   "metadata": {},
   "source": [
    "### Goals"
   ]
  },
  {
   "cell_type": "code",
   "execution_count": 8,
   "metadata": {},
   "outputs": [
    {
     "name": "stdout",
     "output_type": "stream",
     "text": [
      "goals_per_games using dummy (median):\n",
      "train:\n",
      "r2_score: -0.060, mae: 0.100, mse: 0.019\n",
      "test:\n",
      "r2_score: -0.067, mae: 0.101, mse: 0.019\n",
      "lw:\n",
      "r2_score: -0.110, mae: 0.103, mse: 0.020\n",
      "\n",
      "\n",
      "goals_per_games using most recent:\n",
      "train:\n",
      "r2_score: 0.125, mae: 0.092, mse: 0.015\n",
      "test:\n",
      "r2_score: 0.017, mae: 0.096, mse: 0.018\n",
      "lw:\n",
      "r2_score: 0.184, mae: 0.088, mse: 0.015\n",
      "\n",
      "\n",
      "goals_per_games using average:\n",
      "train:\n",
      "r2_score: 0.374, mae: 0.081, mse: 0.011\n",
      "test:\n",
      "r2_score: 0.363, mae: 0.083, mse: 0.011\n",
      "lw:\n",
      "r2_score: 0.311, mae: 0.078, mse: 0.013\n"
     ]
    }
   ],
   "source": [
    "show_base('goals_per_games')"
   ]
  },
  {
   "cell_type": "markdown",
   "metadata": {},
   "source": [
    "We see that for goals scored per game, taking an average of the five recent windows yields a slightly better prediction than just the recent window, and both are better than the dummy predictor, but the mean absolute error is still relatively high compared to the median value, meaning there should be some room for improvement in a more elaborate model. Let's see what it looks like for assists and shots as well."
   ]
  },
  {
   "cell_type": "markdown",
   "metadata": {},
   "source": [
    "### Assists"
   ]
  },
  {
   "cell_type": "code",
   "execution_count": 9,
   "metadata": {},
   "outputs": [
    {
     "name": "stdout",
     "output_type": "stream",
     "text": [
      "assists_per_games using dummy (median):\n",
      "train:\n",
      "r2_score: -0.034, mae: 0.138, mse: 0.033\n",
      "test:\n",
      "r2_score: -0.045, mae: 0.139, mse: 0.035\n",
      "lw:\n",
      "r2_score: -0.082, mae: 0.138, mse: 0.036\n",
      "\n",
      "\n",
      "assists_per_games using most recent:\n",
      "train:\n",
      "r2_score: 0.193, mae: 0.122, mse: 0.026\n",
      "test:\n",
      "r2_score: 0.165, mae: 0.127, mse: 0.028\n",
      "lw:\n",
      "r2_score: 0.333, mae: 0.114, mse: 0.022\n",
      "\n",
      "\n",
      "assists_per_games using average:\n",
      "train:\n",
      "r2_score: 0.419, mae: 0.106, mse: 0.019\n",
      "test:\n",
      "r2_score: 0.403, mae: 0.108, mse: 0.020\n",
      "lw:\n",
      "r2_score: 0.498, mae: 0.101, mse: 0.017\n"
     ]
    }
   ],
   "source": [
    "show_base('assists_per_games')"
   ]
  },
  {
   "cell_type": "markdown",
   "metadata": {},
   "source": [
    "### Shots on Goal"
   ]
  },
  {
   "cell_type": "code",
   "execution_count": 10,
   "metadata": {},
   "outputs": [
    {
     "name": "stdout",
     "output_type": "stream",
     "text": [
      "shots_on_goal_per_games using dummy (median):\n",
      "train:\n",
      "r2_score: -0.024, mae: 0.603, mse: 0.595\n",
      "test:\n",
      "r2_score: -0.034, mae: 0.602, mse: 0.597\n",
      "lw:\n",
      "r2_score: -0.068, mae: 0.591, mse: 0.602\n",
      "\n",
      "\n",
      "shots_on_goal_per_games using most recent:\n",
      "train:\n",
      "r2_score: 0.599, mae: 0.372, mse: 0.233\n",
      "test:\n",
      "r2_score: 0.578, mae: 0.381, mse: 0.244\n",
      "lw:\n",
      "r2_score: 0.607, mae: 0.365, mse: 0.222\n",
      "\n",
      "\n",
      "shots_on_goal_per_games using average:\n",
      "train:\n",
      "r2_score: 0.680, mae: 0.334, mse: 0.186\n",
      "test:\n",
      "r2_score: 0.676, mae: 0.339, mse: 0.187\n",
      "lw:\n",
      "r2_score: 0.673, mae: 0.333, mse: 0.184\n"
     ]
    }
   ],
   "source": [
    "show_base('shots_on_goal_per_games')"
   ]
  },
  {
   "cell_type": "markdown",
   "metadata": {},
   "source": [
    "Although the errors are higher for these stats, relative to their median values these are actually lower, especially for shots. This is not surprising, given that shots happen with much more regularity. Otherwise, we a similar pattern to the results as for goals."
   ]
  },
  {
   "cell_type": "markdown",
   "metadata": {},
   "source": [
    "## 6 Simple Regression<a id='6_Simple_Regression'></a>"
   ]
  },
  {
   "cell_type": "markdown",
   "metadata": {},
   "source": [
    "Our baselines were effectively three linear models with hand-selected coefficients: a constant model, a model with a 1 coefficient for one feature and 0s otherwise, and a model with 0.2 coefficient for five features and 0s otherwise. Let's see what linear model we get via simple regression with no normalization."
   ]
  },
  {
   "cell_type": "code",
   "execution_count": 11,
   "metadata": {},
   "outputs": [],
   "source": [
    "def show_metrics(y, y_pred):\n",
    "    r2 = r2_score(y, y_pred)\n",
    "    mae = mean_absolute_error(y, y_pred)\n",
    "    mse = mean_squared_error(y, y_pred)\n",
    "    print(f'r2_score: {r2:.3f}, mae: {mae:.3f}, mse: {mse:.3f}')"
   ]
  },
  {
   "cell_type": "code",
   "execution_count": 12,
   "metadata": {},
   "outputs": [],
   "source": [
    "simple_pipe = make_pipeline(\n",
    "    StandardScaler(),\n",
    "    LinearRegression()\n",
    ")"
   ]
  },
  {
   "cell_type": "code",
   "execution_count": 13,
   "metadata": {},
   "outputs": [],
   "source": [
    "def reg_model(pipe, stat):\n",
    "    pipe.fit(X_train, Y_train[stat])\n",
    "    y_tr_pred = pipe.predict(X_train)\n",
    "    y_te_pred = pipe.predict(X_test)\n",
    "    y_lw_pred = pipe.predict(X_lastwindows)\n",
    "    print('train:')\n",
    "    show_metrics(Y_train[stat], y_tr_pred)\n",
    "    print('test')\n",
    "    show_metrics(Y_test[stat], y_te_pred)\n",
    "    print('lw:')\n",
    "    show_metrics(Y_lastwindows[stat], y_lw_pred)\n",
    "    # we print the most significant coefficients as well\n",
    "    coefs = pipe.named_steps.linearregression.coef_\n",
    "    if 'polynomialfeatures' in pipe.named_steps.keys(): # this part is for later when we try adding polynomial features\n",
    "        features = pipe.named_steps.polynomialfeatures.get_feature_names_out()\n",
    "    else:\n",
    "        features = X_train.columns\n",
    "    coef_series = pd.Series(coefs, index=features).sort_values(ascending=True)\n",
    "    max_coef = coef_series.max()\n",
    "    min_coef = coef_series.min()\n",
    "    cutoff = max(max_coef, abs(min_coef)) / 8\n",
    "    print('\\n')\n",
    "    print('Significant coefficients:')\n",
    "    print(coef_series[(coef_series > cutoff) | (coef_series < -cutoff)])\n",
    "    "
   ]
  },
  {
   "cell_type": "markdown",
   "metadata": {},
   "source": [
    "### Shots on Goal"
   ]
  },
  {
   "cell_type": "code",
   "execution_count": 14,
   "metadata": {},
   "outputs": [
    {
     "name": "stdout",
     "output_type": "stream",
     "text": [
      "train:\n",
      "r2_score: 0.732, mae: 0.307, mse: 0.156\n",
      "test\n",
      "r2_score: 0.724, mae: 0.310, mse: 0.159\n",
      "lw:\n",
      "r2_score: 0.724, mae: 0.301, mse: 0.155\n",
      "\n",
      "\n",
      "Significant coefficients:\n",
      "age                             -0.161764\n",
      "pp_toi_4_per_games_4            -0.041795\n",
      "goals_2_per_games_2              0.021448\n",
      "assists_1_per_games_1            0.024893\n",
      "pp_toi_2_per_games_2             0.027484\n",
      "attempted_shots_4_per_games_4    0.033121\n",
      "shots_on_goal_3_per_games_3      0.034532\n",
      "shots_on_goal_4_per_games_4      0.044841\n",
      "goals_1_per_games_1              0.046909\n",
      "pp_toi_1_per_games_1             0.047047\n",
      "attempted_shots_3_per_games_3    0.050176\n",
      "shots_on_goal_2_per_games_2      0.060992\n",
      "shots_on_goal_5_per_games_5      0.063075\n",
      "attempted_shots_2_per_games_2    0.064968\n",
      "toi_1_per_games_1                0.071610\n",
      "isForward                        0.076130\n",
      "shots_on_goal_1_per_games_1      0.102530\n",
      "age_squared                      0.105887\n",
      "attempted_shots_1_per_games_1    0.148040\n",
      "dtype: float64\n"
     ]
    }
   ],
   "source": [
    "reg_model(simple_pipe, 'shots_on_goal_per_games')"
   ]
  },
  {
   "cell_type": "markdown",
   "metadata": {},
   "source": [
    "The best baseline had r2: ~0.676, mae: ~0.336, mse: ~0.186, so this model has meaningfully improved over the baseline."
   ]
  },
  {
   "cell_type": "markdown",
   "metadata": {},
   "source": [
    "### Assists"
   ]
  },
  {
   "cell_type": "code",
   "execution_count": 15,
   "metadata": {},
   "outputs": [
    {
     "name": "stdout",
     "output_type": "stream",
     "text": [
      "train:\n",
      "r2_score: 0.522, mae: 0.095, mse: 0.015\n",
      "test\n",
      "r2_score: 0.502, mae: 0.099, mse: 0.017\n",
      "lw:\n",
      "r2_score: 0.595, mae: 0.090, mse: 0.013\n",
      "\n",
      "\n",
      "Significant coefficients:\n",
      "age                             -0.029575\n",
      "shots_on_goal_2_per_games_2     -0.009296\n",
      "toi_3_per_games_3               -0.009079\n",
      "pp_toi_4_per_games_4            -0.008366\n",
      "weight                          -0.005757\n",
      "shots_on_goal_4_per_games_4     -0.004951\n",
      "toi_5_per_games_5               -0.004139\n",
      "attempted_shots_5_per_games_5    0.004217\n",
      "pp_toi_5_per_games_5             0.004672\n",
      "recent_team_goals_per_game       0.005095\n",
      "pp_toi_2_per_games_2             0.005157\n",
      "onice_attempts_5_per_games_5     0.005849\n",
      "onice_attempts_2_per_games_2     0.006459\n",
      "pp_toi_3_per_games_3             0.008809\n",
      "assists_3_per_games_3            0.008947\n",
      "assists_4_per_games_4            0.009013\n",
      "onice_attempts_4_per_games_4     0.009184\n",
      "assists_5_per_games_5            0.009503\n",
      "onice_attempts_1_per_games_1     0.009521\n",
      "attempted_shots_2_per_games_2    0.012969\n",
      "goals_1_per_games_1              0.013663\n",
      "onice_attempts_3_per_games_3     0.014034\n",
      "toi_1_per_games_1                0.017989\n",
      "assists_2_per_games_2            0.018005\n",
      "age_squared                      0.018007\n",
      "isForward                        0.023216\n",
      "pp_toi_1_per_games_1             0.023464\n",
      "assists_1_per_games_1            0.026687\n",
      "dtype: float64\n"
     ]
    }
   ],
   "source": [
    "reg_model(simple_pipe, 'assists_per_games')"
   ]
  },
  {
   "cell_type": "markdown",
   "metadata": {},
   "source": [
    "### Goals"
   ]
  },
  {
   "cell_type": "code",
   "execution_count": 16,
   "metadata": {},
   "outputs": [
    {
     "name": "stdout",
     "output_type": "stream",
     "text": [
      "train:\n",
      "r2_score: 0.514, mae: 0.069, mse: 0.009\n",
      "test\n",
      "r2_score: 0.510, mae: 0.071, mse: 0.009\n",
      "lw:\n",
      "r2_score: 0.550, mae: 0.068, mse: 0.008\n",
      "\n",
      "\n",
      "Significant coefficients:\n",
      "age                             -0.025378\n",
      "toi_3_per_games_3               -0.008540\n",
      "shots_on_goal_3_per_games_3      0.005203\n",
      "onice_attempts_5_per_games_5     0.005385\n",
      "goals_3_per_games_3              0.005557\n",
      "shots_on_goal_1_per_games_1      0.005811\n",
      "onice_attempts_4_per_games_4     0.006002\n",
      "assists_1_per_games_1            0.006023\n",
      "shots_on_goal_5_per_games_5      0.006322\n",
      "onice_attempts_3_per_games_3     0.009769\n",
      "pp_toi_1_per_games_1             0.010353\n",
      "attempted_shots_1_per_games_1    0.010530\n",
      "goals_2_per_games_2              0.011205\n",
      "toi_1_per_games_1                0.011973\n",
      "goals_1_per_games_1              0.014286\n",
      "age_squared                      0.016677\n",
      "isForward                        0.040856\n",
      "dtype: float64\n"
     ]
    }
   ],
   "source": [
    "reg_model(simple_pipe, 'goals_per_games')"
   ]
  },
  {
   "cell_type": "markdown",
   "metadata": {},
   "source": [
    "Comparing to our baselines above, we have also seen a meaningful improvement for assists and for goals. Interestingly, we are not seeing any evidence of overfitting, leaving room to explore more complex models."
   ]
  },
  {
   "cell_type": "markdown",
   "metadata": {},
   "source": [
    "## 7 Random Forest<a id='7_Random_Forest'></a>"
   ]
  },
  {
   "cell_type": "markdown",
   "metadata": {},
   "source": [
    "Let's see if we can train a model to beat our simple linear regression model. We first try a random forest model."
   ]
  },
  {
   "cell_type": "code",
   "execution_count": 17,
   "metadata": {},
   "outputs": [],
   "source": [
    "RF_pipe = make_pipeline(\n",
    "    StandardScaler(),\n",
    "    RandomForestRegressor(random_state=37)\n",
    ")"
   ]
  },
  {
   "cell_type": "code",
   "execution_count": 18,
   "metadata": {},
   "outputs": [
    {
     "data": {
      "text/plain": [
       "{'randomforestregressor__n_estimators': [10,\n",
       "  17,\n",
       "  31,\n",
       "  56,\n",
       "  100,\n",
       "  177,\n",
       "  316,\n",
       "  562,\n",
       "  1000]}"
      ]
     },
     "execution_count": 18,
     "metadata": {},
     "output_type": "execute_result"
    }
   ],
   "source": [
    "n_est = [int(n) for n in np.logspace(start=1, stop=3, num=9)]\n",
    "grid_params = {\n",
    "        'randomforestregressor__n_estimators': n_est\n",
    "}\n",
    "grid_params"
   ]
  },
  {
   "cell_type": "code",
   "execution_count": 19,
   "metadata": {},
   "outputs": [],
   "source": [
    "rf_grid_cv = GridSearchCV(RF_pipe, param_grid=grid_params, cv=5, n_jobs=-1)"
   ]
  },
  {
   "cell_type": "code",
   "execution_count": 20,
   "metadata": {},
   "outputs": [
    {
     "data": {
      "text/html": [
       "<style>#sk-container-id-1 {\n",
       "  /* Definition of color scheme common for light and dark mode */\n",
       "  --sklearn-color-text: black;\n",
       "  --sklearn-color-line: gray;\n",
       "  /* Definition of color scheme for unfitted estimators */\n",
       "  --sklearn-color-unfitted-level-0: #fff5e6;\n",
       "  --sklearn-color-unfitted-level-1: #f6e4d2;\n",
       "  --sklearn-color-unfitted-level-2: #ffe0b3;\n",
       "  --sklearn-color-unfitted-level-3: chocolate;\n",
       "  /* Definition of color scheme for fitted estimators */\n",
       "  --sklearn-color-fitted-level-0: #f0f8ff;\n",
       "  --sklearn-color-fitted-level-1: #d4ebff;\n",
       "  --sklearn-color-fitted-level-2: #b3dbfd;\n",
       "  --sklearn-color-fitted-level-3: cornflowerblue;\n",
       "\n",
       "  /* Specific color for light theme */\n",
       "  --sklearn-color-text-on-default-background: var(--sg-text-color, var(--theme-code-foreground, var(--jp-content-font-color1, black)));\n",
       "  --sklearn-color-background: var(--sg-background-color, var(--theme-background, var(--jp-layout-color0, white)));\n",
       "  --sklearn-color-border-box: var(--sg-text-color, var(--theme-code-foreground, var(--jp-content-font-color1, black)));\n",
       "  --sklearn-color-icon: #696969;\n",
       "\n",
       "  @media (prefers-color-scheme: dark) {\n",
       "    /* Redefinition of color scheme for dark theme */\n",
       "    --sklearn-color-text-on-default-background: var(--sg-text-color, var(--theme-code-foreground, var(--jp-content-font-color1, white)));\n",
       "    --sklearn-color-background: var(--sg-background-color, var(--theme-background, var(--jp-layout-color0, #111)));\n",
       "    --sklearn-color-border-box: var(--sg-text-color, var(--theme-code-foreground, var(--jp-content-font-color1, white)));\n",
       "    --sklearn-color-icon: #878787;\n",
       "  }\n",
       "}\n",
       "\n",
       "#sk-container-id-1 {\n",
       "  color: var(--sklearn-color-text);\n",
       "}\n",
       "\n",
       "#sk-container-id-1 pre {\n",
       "  padding: 0;\n",
       "}\n",
       "\n",
       "#sk-container-id-1 input.sk-hidden--visually {\n",
       "  border: 0;\n",
       "  clip: rect(1px 1px 1px 1px);\n",
       "  clip: rect(1px, 1px, 1px, 1px);\n",
       "  height: 1px;\n",
       "  margin: -1px;\n",
       "  overflow: hidden;\n",
       "  padding: 0;\n",
       "  position: absolute;\n",
       "  width: 1px;\n",
       "}\n",
       "\n",
       "#sk-container-id-1 div.sk-dashed-wrapped {\n",
       "  border: 1px dashed var(--sklearn-color-line);\n",
       "  margin: 0 0.4em 0.5em 0.4em;\n",
       "  box-sizing: border-box;\n",
       "  padding-bottom: 0.4em;\n",
       "  background-color: var(--sklearn-color-background);\n",
       "}\n",
       "\n",
       "#sk-container-id-1 div.sk-container {\n",
       "  /* jupyter's `normalize.less` sets `[hidden] { display: none; }`\n",
       "     but bootstrap.min.css set `[hidden] { display: none !important; }`\n",
       "     so we also need the `!important` here to be able to override the\n",
       "     default hidden behavior on the sphinx rendered scikit-learn.org.\n",
       "     See: https://github.com/scikit-learn/scikit-learn/issues/21755 */\n",
       "  display: inline-block !important;\n",
       "  position: relative;\n",
       "}\n",
       "\n",
       "#sk-container-id-1 div.sk-text-repr-fallback {\n",
       "  display: none;\n",
       "}\n",
       "\n",
       "div.sk-parallel-item,\n",
       "div.sk-serial,\n",
       "div.sk-item {\n",
       "  /* draw centered vertical line to link estimators */\n",
       "  background-image: linear-gradient(var(--sklearn-color-text-on-default-background), var(--sklearn-color-text-on-default-background));\n",
       "  background-size: 2px 100%;\n",
       "  background-repeat: no-repeat;\n",
       "  background-position: center center;\n",
       "}\n",
       "\n",
       "/* Parallel-specific style estimator block */\n",
       "\n",
       "#sk-container-id-1 div.sk-parallel-item::after {\n",
       "  content: \"\";\n",
       "  width: 100%;\n",
       "  border-bottom: 2px solid var(--sklearn-color-text-on-default-background);\n",
       "  flex-grow: 1;\n",
       "}\n",
       "\n",
       "#sk-container-id-1 div.sk-parallel {\n",
       "  display: flex;\n",
       "  align-items: stretch;\n",
       "  justify-content: center;\n",
       "  background-color: var(--sklearn-color-background);\n",
       "  position: relative;\n",
       "}\n",
       "\n",
       "#sk-container-id-1 div.sk-parallel-item {\n",
       "  display: flex;\n",
       "  flex-direction: column;\n",
       "}\n",
       "\n",
       "#sk-container-id-1 div.sk-parallel-item:first-child::after {\n",
       "  align-self: flex-end;\n",
       "  width: 50%;\n",
       "}\n",
       "\n",
       "#sk-container-id-1 div.sk-parallel-item:last-child::after {\n",
       "  align-self: flex-start;\n",
       "  width: 50%;\n",
       "}\n",
       "\n",
       "#sk-container-id-1 div.sk-parallel-item:only-child::after {\n",
       "  width: 0;\n",
       "}\n",
       "\n",
       "/* Serial-specific style estimator block */\n",
       "\n",
       "#sk-container-id-1 div.sk-serial {\n",
       "  display: flex;\n",
       "  flex-direction: column;\n",
       "  align-items: center;\n",
       "  background-color: var(--sklearn-color-background);\n",
       "  padding-right: 1em;\n",
       "  padding-left: 1em;\n",
       "}\n",
       "\n",
       "\n",
       "/* Toggleable style: style used for estimator/Pipeline/ColumnTransformer box that is\n",
       "clickable and can be expanded/collapsed.\n",
       "- Pipeline and ColumnTransformer use this feature and define the default style\n",
       "- Estimators will overwrite some part of the style using the `sk-estimator` class\n",
       "*/\n",
       "\n",
       "/* Pipeline and ColumnTransformer style (default) */\n",
       "\n",
       "#sk-container-id-1 div.sk-toggleable {\n",
       "  /* Default theme specific background. It is overwritten whether we have a\n",
       "  specific estimator or a Pipeline/ColumnTransformer */\n",
       "  background-color: var(--sklearn-color-background);\n",
       "}\n",
       "\n",
       "/* Toggleable label */\n",
       "#sk-container-id-1 label.sk-toggleable__label {\n",
       "  cursor: pointer;\n",
       "  display: block;\n",
       "  width: 100%;\n",
       "  margin-bottom: 0;\n",
       "  padding: 0.5em;\n",
       "  box-sizing: border-box;\n",
       "  text-align: center;\n",
       "}\n",
       "\n",
       "#sk-container-id-1 label.sk-toggleable__label-arrow:before {\n",
       "  /* Arrow on the left of the label */\n",
       "  content: \"▸\";\n",
       "  float: left;\n",
       "  margin-right: 0.25em;\n",
       "  color: var(--sklearn-color-icon);\n",
       "}\n",
       "\n",
       "#sk-container-id-1 label.sk-toggleable__label-arrow:hover:before {\n",
       "  color: var(--sklearn-color-text);\n",
       "}\n",
       "\n",
       "/* Toggleable content - dropdown */\n",
       "\n",
       "#sk-container-id-1 div.sk-toggleable__content {\n",
       "  max-height: 0;\n",
       "  max-width: 0;\n",
       "  overflow: hidden;\n",
       "  text-align: left;\n",
       "  /* unfitted */\n",
       "  background-color: var(--sklearn-color-unfitted-level-0);\n",
       "}\n",
       "\n",
       "#sk-container-id-1 div.sk-toggleable__content.fitted {\n",
       "  /* fitted */\n",
       "  background-color: var(--sklearn-color-fitted-level-0);\n",
       "}\n",
       "\n",
       "#sk-container-id-1 div.sk-toggleable__content pre {\n",
       "  margin: 0.2em;\n",
       "  border-radius: 0.25em;\n",
       "  color: var(--sklearn-color-text);\n",
       "  /* unfitted */\n",
       "  background-color: var(--sklearn-color-unfitted-level-0);\n",
       "}\n",
       "\n",
       "#sk-container-id-1 div.sk-toggleable__content.fitted pre {\n",
       "  /* unfitted */\n",
       "  background-color: var(--sklearn-color-fitted-level-0);\n",
       "}\n",
       "\n",
       "#sk-container-id-1 input.sk-toggleable__control:checked~div.sk-toggleable__content {\n",
       "  /* Expand drop-down */\n",
       "  max-height: 200px;\n",
       "  max-width: 100%;\n",
       "  overflow: auto;\n",
       "}\n",
       "\n",
       "#sk-container-id-1 input.sk-toggleable__control:checked~label.sk-toggleable__label-arrow:before {\n",
       "  content: \"▾\";\n",
       "}\n",
       "\n",
       "/* Pipeline/ColumnTransformer-specific style */\n",
       "\n",
       "#sk-container-id-1 div.sk-label input.sk-toggleable__control:checked~label.sk-toggleable__label {\n",
       "  color: var(--sklearn-color-text);\n",
       "  background-color: var(--sklearn-color-unfitted-level-2);\n",
       "}\n",
       "\n",
       "#sk-container-id-1 div.sk-label.fitted input.sk-toggleable__control:checked~label.sk-toggleable__label {\n",
       "  background-color: var(--sklearn-color-fitted-level-2);\n",
       "}\n",
       "\n",
       "/* Estimator-specific style */\n",
       "\n",
       "/* Colorize estimator box */\n",
       "#sk-container-id-1 div.sk-estimator input.sk-toggleable__control:checked~label.sk-toggleable__label {\n",
       "  /* unfitted */\n",
       "  background-color: var(--sklearn-color-unfitted-level-2);\n",
       "}\n",
       "\n",
       "#sk-container-id-1 div.sk-estimator.fitted input.sk-toggleable__control:checked~label.sk-toggleable__label {\n",
       "  /* fitted */\n",
       "  background-color: var(--sklearn-color-fitted-level-2);\n",
       "}\n",
       "\n",
       "#sk-container-id-1 div.sk-label label.sk-toggleable__label,\n",
       "#sk-container-id-1 div.sk-label label {\n",
       "  /* The background is the default theme color */\n",
       "  color: var(--sklearn-color-text-on-default-background);\n",
       "}\n",
       "\n",
       "/* On hover, darken the color of the background */\n",
       "#sk-container-id-1 div.sk-label:hover label.sk-toggleable__label {\n",
       "  color: var(--sklearn-color-text);\n",
       "  background-color: var(--sklearn-color-unfitted-level-2);\n",
       "}\n",
       "\n",
       "/* Label box, darken color on hover, fitted */\n",
       "#sk-container-id-1 div.sk-label.fitted:hover label.sk-toggleable__label.fitted {\n",
       "  color: var(--sklearn-color-text);\n",
       "  background-color: var(--sklearn-color-fitted-level-2);\n",
       "}\n",
       "\n",
       "/* Estimator label */\n",
       "\n",
       "#sk-container-id-1 div.sk-label label {\n",
       "  font-family: monospace;\n",
       "  font-weight: bold;\n",
       "  display: inline-block;\n",
       "  line-height: 1.2em;\n",
       "}\n",
       "\n",
       "#sk-container-id-1 div.sk-label-container {\n",
       "  text-align: center;\n",
       "}\n",
       "\n",
       "/* Estimator-specific */\n",
       "#sk-container-id-1 div.sk-estimator {\n",
       "  font-family: monospace;\n",
       "  border: 1px dotted var(--sklearn-color-border-box);\n",
       "  border-radius: 0.25em;\n",
       "  box-sizing: border-box;\n",
       "  margin-bottom: 0.5em;\n",
       "  /* unfitted */\n",
       "  background-color: var(--sklearn-color-unfitted-level-0);\n",
       "}\n",
       "\n",
       "#sk-container-id-1 div.sk-estimator.fitted {\n",
       "  /* fitted */\n",
       "  background-color: var(--sklearn-color-fitted-level-0);\n",
       "}\n",
       "\n",
       "/* on hover */\n",
       "#sk-container-id-1 div.sk-estimator:hover {\n",
       "  /* unfitted */\n",
       "  background-color: var(--sklearn-color-unfitted-level-2);\n",
       "}\n",
       "\n",
       "#sk-container-id-1 div.sk-estimator.fitted:hover {\n",
       "  /* fitted */\n",
       "  background-color: var(--sklearn-color-fitted-level-2);\n",
       "}\n",
       "\n",
       "/* Specification for estimator info (e.g. \"i\" and \"?\") */\n",
       "\n",
       "/* Common style for \"i\" and \"?\" */\n",
       "\n",
       ".sk-estimator-doc-link,\n",
       "a:link.sk-estimator-doc-link,\n",
       "a:visited.sk-estimator-doc-link {\n",
       "  float: right;\n",
       "  font-size: smaller;\n",
       "  line-height: 1em;\n",
       "  font-family: monospace;\n",
       "  background-color: var(--sklearn-color-background);\n",
       "  border-radius: 1em;\n",
       "  height: 1em;\n",
       "  width: 1em;\n",
       "  text-decoration: none !important;\n",
       "  margin-left: 1ex;\n",
       "  /* unfitted */\n",
       "  border: var(--sklearn-color-unfitted-level-1) 1pt solid;\n",
       "  color: var(--sklearn-color-unfitted-level-1);\n",
       "}\n",
       "\n",
       ".sk-estimator-doc-link.fitted,\n",
       "a:link.sk-estimator-doc-link.fitted,\n",
       "a:visited.sk-estimator-doc-link.fitted {\n",
       "  /* fitted */\n",
       "  border: var(--sklearn-color-fitted-level-1) 1pt solid;\n",
       "  color: var(--sklearn-color-fitted-level-1);\n",
       "}\n",
       "\n",
       "/* On hover */\n",
       "div.sk-estimator:hover .sk-estimator-doc-link:hover,\n",
       ".sk-estimator-doc-link:hover,\n",
       "div.sk-label-container:hover .sk-estimator-doc-link:hover,\n",
       ".sk-estimator-doc-link:hover {\n",
       "  /* unfitted */\n",
       "  background-color: var(--sklearn-color-unfitted-level-3);\n",
       "  color: var(--sklearn-color-background);\n",
       "  text-decoration: none;\n",
       "}\n",
       "\n",
       "div.sk-estimator.fitted:hover .sk-estimator-doc-link.fitted:hover,\n",
       ".sk-estimator-doc-link.fitted:hover,\n",
       "div.sk-label-container:hover .sk-estimator-doc-link.fitted:hover,\n",
       ".sk-estimator-doc-link.fitted:hover {\n",
       "  /* fitted */\n",
       "  background-color: var(--sklearn-color-fitted-level-3);\n",
       "  color: var(--sklearn-color-background);\n",
       "  text-decoration: none;\n",
       "}\n",
       "\n",
       "/* Span, style for the box shown on hovering the info icon */\n",
       ".sk-estimator-doc-link span {\n",
       "  display: none;\n",
       "  z-index: 9999;\n",
       "  position: relative;\n",
       "  font-weight: normal;\n",
       "  right: .2ex;\n",
       "  padding: .5ex;\n",
       "  margin: .5ex;\n",
       "  width: min-content;\n",
       "  min-width: 20ex;\n",
       "  max-width: 50ex;\n",
       "  color: var(--sklearn-color-text);\n",
       "  box-shadow: 2pt 2pt 4pt #999;\n",
       "  /* unfitted */\n",
       "  background: var(--sklearn-color-unfitted-level-0);\n",
       "  border: .5pt solid var(--sklearn-color-unfitted-level-3);\n",
       "}\n",
       "\n",
       ".sk-estimator-doc-link.fitted span {\n",
       "  /* fitted */\n",
       "  background: var(--sklearn-color-fitted-level-0);\n",
       "  border: var(--sklearn-color-fitted-level-3);\n",
       "}\n",
       "\n",
       ".sk-estimator-doc-link:hover span {\n",
       "  display: block;\n",
       "}\n",
       "\n",
       "/* \"?\"-specific style due to the `<a>` HTML tag */\n",
       "\n",
       "#sk-container-id-1 a.estimator_doc_link {\n",
       "  float: right;\n",
       "  font-size: 1rem;\n",
       "  line-height: 1em;\n",
       "  font-family: monospace;\n",
       "  background-color: var(--sklearn-color-background);\n",
       "  border-radius: 1rem;\n",
       "  height: 1rem;\n",
       "  width: 1rem;\n",
       "  text-decoration: none;\n",
       "  /* unfitted */\n",
       "  color: var(--sklearn-color-unfitted-level-1);\n",
       "  border: var(--sklearn-color-unfitted-level-1) 1pt solid;\n",
       "}\n",
       "\n",
       "#sk-container-id-1 a.estimator_doc_link.fitted {\n",
       "  /* fitted */\n",
       "  border: var(--sklearn-color-fitted-level-1) 1pt solid;\n",
       "  color: var(--sklearn-color-fitted-level-1);\n",
       "}\n",
       "\n",
       "/* On hover */\n",
       "#sk-container-id-1 a.estimator_doc_link:hover {\n",
       "  /* unfitted */\n",
       "  background-color: var(--sklearn-color-unfitted-level-3);\n",
       "  color: var(--sklearn-color-background);\n",
       "  text-decoration: none;\n",
       "}\n",
       "\n",
       "#sk-container-id-1 a.estimator_doc_link.fitted:hover {\n",
       "  /* fitted */\n",
       "  background-color: var(--sklearn-color-fitted-level-3);\n",
       "}\n",
       "</style><div id=\"sk-container-id-1\" class=\"sk-top-container\"><div class=\"sk-text-repr-fallback\"><pre>GridSearchCV(cv=5,\n",
       "             estimator=Pipeline(steps=[(&#x27;standardscaler&#x27;, StandardScaler()),\n",
       "                                       (&#x27;randomforestregressor&#x27;,\n",
       "                                        RandomForestRegressor(random_state=37))]),\n",
       "             n_jobs=-1,\n",
       "             param_grid={&#x27;randomforestregressor__n_estimators&#x27;: [10, 17, 31, 56,\n",
       "                                                                 100, 177, 316,\n",
       "                                                                 562, 1000]})</pre><b>In a Jupyter environment, please rerun this cell to show the HTML representation or trust the notebook. <br />On GitHub, the HTML representation is unable to render, please try loading this page with nbviewer.org.</b></div><div class=\"sk-container\" hidden><div class=\"sk-item sk-dashed-wrapped\"><div class=\"sk-label-container\"><div class=\"sk-label fitted sk-toggleable\"><input class=\"sk-toggleable__control sk-hidden--visually\" id=\"sk-estimator-id-1\" type=\"checkbox\" ><label for=\"sk-estimator-id-1\" class=\"sk-toggleable__label fitted sk-toggleable__label-arrow fitted\">&nbsp;&nbsp;GridSearchCV<a class=\"sk-estimator-doc-link fitted\" rel=\"noreferrer\" target=\"_blank\" href=\"https://scikit-learn.org/1.4/modules/generated/sklearn.model_selection.GridSearchCV.html\">?<span>Documentation for GridSearchCV</span></a><span class=\"sk-estimator-doc-link fitted\">i<span>Fitted</span></span></label><div class=\"sk-toggleable__content fitted\"><pre>GridSearchCV(cv=5,\n",
       "             estimator=Pipeline(steps=[(&#x27;standardscaler&#x27;, StandardScaler()),\n",
       "                                       (&#x27;randomforestregressor&#x27;,\n",
       "                                        RandomForestRegressor(random_state=37))]),\n",
       "             n_jobs=-1,\n",
       "             param_grid={&#x27;randomforestregressor__n_estimators&#x27;: [10, 17, 31, 56,\n",
       "                                                                 100, 177, 316,\n",
       "                                                                 562, 1000]})</pre></div> </div></div><div class=\"sk-parallel\"><div class=\"sk-parallel-item\"><div class=\"sk-item\"><div class=\"sk-label-container\"><div class=\"sk-label fitted sk-toggleable\"><input class=\"sk-toggleable__control sk-hidden--visually\" id=\"sk-estimator-id-2\" type=\"checkbox\" ><label for=\"sk-estimator-id-2\" class=\"sk-toggleable__label fitted sk-toggleable__label-arrow fitted\">estimator: Pipeline</label><div class=\"sk-toggleable__content fitted\"><pre>Pipeline(steps=[(&#x27;standardscaler&#x27;, StandardScaler()),\n",
       "                (&#x27;randomforestregressor&#x27;,\n",
       "                 RandomForestRegressor(random_state=37))])</pre></div> </div></div><div class=\"sk-serial\"><div class=\"sk-item\"><div class=\"sk-serial\"><div class=\"sk-item\"><div class=\"sk-estimator fitted sk-toggleable\"><input class=\"sk-toggleable__control sk-hidden--visually\" id=\"sk-estimator-id-3\" type=\"checkbox\" ><label for=\"sk-estimator-id-3\" class=\"sk-toggleable__label fitted sk-toggleable__label-arrow fitted\">&nbsp;StandardScaler<a class=\"sk-estimator-doc-link fitted\" rel=\"noreferrer\" target=\"_blank\" href=\"https://scikit-learn.org/1.4/modules/generated/sklearn.preprocessing.StandardScaler.html\">?<span>Documentation for StandardScaler</span></a></label><div class=\"sk-toggleable__content fitted\"><pre>StandardScaler()</pre></div> </div></div><div class=\"sk-item\"><div class=\"sk-estimator fitted sk-toggleable\"><input class=\"sk-toggleable__control sk-hidden--visually\" id=\"sk-estimator-id-4\" type=\"checkbox\" ><label for=\"sk-estimator-id-4\" class=\"sk-toggleable__label fitted sk-toggleable__label-arrow fitted\">&nbsp;RandomForestRegressor<a class=\"sk-estimator-doc-link fitted\" rel=\"noreferrer\" target=\"_blank\" href=\"https://scikit-learn.org/1.4/modules/generated/sklearn.ensemble.RandomForestRegressor.html\">?<span>Documentation for RandomForestRegressor</span></a></label><div class=\"sk-toggleable__content fitted\"><pre>RandomForestRegressor(random_state=37)</pre></div> </div></div></div></div></div></div></div></div></div></div></div>"
      ],
      "text/plain": [
       "GridSearchCV(cv=5,\n",
       "             estimator=Pipeline(steps=[('standardscaler', StandardScaler()),\n",
       "                                       ('randomforestregressor',\n",
       "                                        RandomForestRegressor(random_state=37))]),\n",
       "             n_jobs=-1,\n",
       "             param_grid={'randomforestregressor__n_estimators': [10, 17, 31, 56,\n",
       "                                                                 100, 177, 316,\n",
       "                                                                 562, 1000]})"
      ]
     },
     "execution_count": 20,
     "metadata": {},
     "output_type": "execute_result"
    }
   ],
   "source": [
    "rf_grid_cv.fit(X_train, Y_train['goals_per_games'])"
   ]
  },
  {
   "cell_type": "markdown",
   "metadata": {},
   "source": [
    "Fitting these models took over 16 minutes, compared to the milliseconds that our linear regression model took. Was it worth it?"
   ]
  },
  {
   "cell_type": "code",
   "execution_count": 21,
   "metadata": {},
   "outputs": [
    {
     "data": {
      "text/plain": [
       "{'randomforestregressor__n_estimators': 1000}"
      ]
     },
     "execution_count": 21,
     "metadata": {},
     "output_type": "execute_result"
    }
   ],
   "source": [
    "rf_grid_cv.best_params_"
   ]
  },
  {
   "cell_type": "code",
   "execution_count": 22,
   "metadata": {},
   "outputs": [
    {
     "data": {
      "image/png": "[encoded data removed]",
      "text/plain": [
       "<Figure size 1000x500 with 1 Axes>"
      ]
     },
     "metadata": {},
     "output_type": "display_data"
    }
   ],
   "source": [
    "plt.subplots(figsize=(10, 5))\n",
    "imps = rf_grid_cv.best_estimator_.named_steps.randomforestregressor.feature_importances_\n",
    "rf_feat_imps = pd.Series(imps, index=X_train.columns).sort_values(ascending=False)\n",
    "rf_feat_imps.plot(kind='bar')\n",
    "plt.xlabel('features')\n",
    "plt.ylabel('importance')\n",
    "plt.title('Best random forest regressor feature importances');"
   ]
  },
  {
   "cell_type": "code",
   "execution_count": 23,
   "metadata": {},
   "outputs": [
    {
     "name": "stdout",
     "output_type": "stream",
     "text": [
      "train:\n",
      "r2_score: 0.934, mae: 0.026, mse: 0.001\n",
      "test:\n",
      "r2_score: 0.514, mae: 0.071, mse: 0.009\n",
      "lw:\n",
      "r2_score: 0.583, mae: 0.066, mse: 0.008\n"
     ]
    }
   ],
   "source": [
    "y_tr_rf_goals = rf_grid_cv.predict(X_train)\n",
    "y_te_rf_goals = rf_grid_cv.predict(X_test)\n",
    "y_lw_rf_goals = rf_grid_cv.predict(X_lastwindows)\n",
    "\n",
    "print('train:')\n",
    "show_metrics(Y_train['goals_per_games'], y_tr_rf_goals)\n",
    "print('test:')\n",
    "show_metrics(Y_test['goals_per_games'], y_te_rf_goals)\n",
    "print('lw:')\n",
    "show_metrics(Y_lastwindows['goals_per_games'], y_lw_rf_goals)"
   ]
  },
  {
   "cell_type": "markdown",
   "metadata": {},
   "source": [
    "The resulting model has significantly overfit to the training data, and achieves similar results on the test data as the linear model. Although we have far from exhausted the parameters to explore with random forests, it does not seem like a promising approach, given that the enormously longer training time does not seem to have gained us anything."
   ]
  },
  {
   "cell_type": "markdown",
   "metadata": {},
   "source": [
    "## 8 More Sophisticated Regression<a id='8_More_Sophisticated_Regression'></a>"
   ]
  },
  {
   "cell_type": "markdown",
   "metadata": {},
   "source": [
    "Let's now turn back to our linear model."
   ]
  },
  {
   "cell_type": "code",
   "execution_count": 24,
   "metadata": {},
   "outputs": [],
   "source": [
    "fractions = [.025, .05, .1, .15, .25, .35, .45, .55, .7, .85, 1.0]\n",
    "train_size, train_scores, test_scores = learning_curve(simple_pipe, X_train, Y_train['goals_per_games'], train_sizes=fractions)\n",
    "train_scores_mean = np.mean(train_scores, axis=1)\n",
    "train_scores_std = np.std(train_scores, axis=1)\n",
    "test_scores_mean = np.mean(test_scores, axis=1)\n",
    "test_scores_std = np.std(test_scores, axis=1)"
   ]
  },
  {
   "cell_type": "code",
   "execution_count": 25,
   "metadata": {},
   "outputs": [
    {
     "data": {
      "image/png": "[encoded data removed]",
      "text/plain": [
       "<Figure size 1000x500 with 1 Axes>"
      ]
     },
     "metadata": {},
     "output_type": "display_data"
    }
   ],
   "source": [
    "plt.subplots(figsize=(10, 5))\n",
    "plt.errorbar(train_size, test_scores_mean, yerr=test_scores_std)\n",
    "plt.xlabel('Training set size')\n",
    "plt.ylabel('CV scores')\n",
    "plt.title('Cross-validation score as training set size increases');"
   ]
  },
  {
   "cell_type": "markdown",
   "metadata": {},
   "source": [
    "We see that we have plenty of data, so the best hope to improve our results is to increase the complexity of our model. Let's try adding in some polynomial features"
   ]
  },
  {
   "cell_type": "code",
   "execution_count": 26,
   "metadata": {},
   "outputs": [],
   "source": [
    "poly_pipe = make_pipeline(\n",
    "    StandardScaler(),\n",
    "    PolynomialFeatures(degree=2, interaction_only=True),\n",
    "    LinearRegression()\n",
    ")"
   ]
  },
  {
   "cell_type": "markdown",
   "metadata": {},
   "source": [
    "### Shots on Goal"
   ]
  },
  {
   "cell_type": "code",
   "execution_count": 27,
   "metadata": {},
   "outputs": [
    {
     "name": "stdout",
     "output_type": "stream",
     "text": [
      "train:\n",
      "r2_score: 0.763, mae: 0.290, mse: 0.137\n",
      "test\n",
      "r2_score: 0.708, mae: 0.319, mse: 0.169\n",
      "lw:\n",
      "r2_score: 0.689, mae: 0.311, mse: 0.175\n",
      "\n",
      "\n",
      "Significant coefficients:\n",
      "x3       -0.610347\n",
      "x4 x31   -0.402749\n",
      "x3 x27   -0.324516\n",
      "x0 x3    -0.230286\n",
      "x4 x38   -0.228959\n",
      "            ...   \n",
      "x0 x4     0.221015\n",
      "x3 x38    0.225051\n",
      "x4 x27    0.317288\n",
      "x3 x31    0.419210\n",
      "x4        0.579613\n",
      "Length: 86, dtype: float64\n"
     ]
    }
   ],
   "source": [
    "reg_model(poly_pipe, 'shots_on_goal_per_games')"
   ]
  },
  {
   "cell_type": "markdown",
   "metadata": {},
   "source": [
    "### Assists"
   ]
  },
  {
   "cell_type": "code",
   "execution_count": 28,
   "metadata": {},
   "outputs": [
    {
     "name": "stdout",
     "output_type": "stream",
     "text": [
      "train:\n",
      "r2_score: 0.585, mae: 0.089, mse: 0.013\n",
      "test\n",
      "r2_score: 0.482, mae: 0.100, mse: 0.017\n",
      "lw:\n",
      "r2_score: 0.564, mae: 0.093, mse: 0.014\n",
      "\n",
      "\n",
      "Significant coefficients:\n",
      "x4 x13   -0.111008\n",
      "x3 x11   -0.102513\n",
      "x4 x22   -0.096365\n",
      "x4       -0.090584\n",
      "x3 x20   -0.084450\n",
      "            ...   \n",
      "x3        0.072658\n",
      "x3 x22    0.095301\n",
      "x4 x11    0.099920\n",
      "x4 x20    0.100959\n",
      "x3 x13    0.111286\n",
      "Length: 189, dtype: float64\n"
     ]
    }
   ],
   "source": [
    "reg_model(poly_pipe, 'assists_per_games')"
   ]
  },
  {
   "cell_type": "markdown",
   "metadata": {},
   "source": [
    "### Goals"
   ]
  },
  {
   "cell_type": "code",
   "execution_count": 29,
   "metadata": {},
   "outputs": [
    {
     "name": "stdout",
     "output_type": "stream",
     "text": [
      "train:\n",
      "r2_score: 0.573, mae: 0.065, mse: 0.008\n",
      "test\n",
      "r2_score: 0.484, mae: 0.073, mse: 0.009\n",
      "lw:\n",
      "r2_score: 0.549, mae: 0.069, mse: 0.008\n",
      "\n",
      "\n",
      "Significant coefficients:\n",
      "x3 x18   -0.077126\n",
      "x4 x38   -0.073228\n",
      "x3 x24   -0.065102\n",
      "x3 x34   -0.063531\n",
      "x4 x31   -0.061835\n",
      "            ...   \n",
      "x4 x24    0.062911\n",
      "x3 x31    0.063501\n",
      "x4 x34    0.065518\n",
      "x4 x18    0.071305\n",
      "x3 x38    0.073526\n",
      "Length: 194, dtype: float64\n"
     ]
    }
   ],
   "source": [
    "reg_model(poly_pipe, 'goals_per_games')"
   ]
  },
  {
   "cell_type": "markdown",
   "metadata": {},
   "source": [
    "These models are now starting to overfit, with slightly better performance on the training set than the linear model had, but slightly worse on the test sets."
   ]
  },
  {
   "cell_type": "markdown",
   "metadata": {},
   "source": [
    "## 9 Save the model<a id='9_Save_the_model'></a>"
   ]
  },
  {
   "cell_type": "markdown",
   "metadata": {},
   "source": [
    "The clear winner out of the models we explored is the simple linear regression model, which performs as well as or better than all the rest, while also being one of the most simple and lightweight. Let's save the specific model for each stat separately."
   ]
  },
  {
   "cell_type": "code",
   "execution_count": 30,
   "metadata": {},
   "outputs": [],
   "source": [
    "%%capture\n",
    "reg_model(simple_pipe, 'shots_on_goal_per_games')"
   ]
  },
  {
   "cell_type": "code",
   "execution_count": 31,
   "metadata": {},
   "outputs": [],
   "source": [
    "sog_model = simple_pipe\n",
    "sog_model.version = 1.0\n",
    "sog_model.pandas_version = pd.__version__\n",
    "sog_model.numpy_version = np.__version__\n",
    "sog_model.sklearn_version = sklearn_version\n",
    "sog_model.X_columns = [col for col in X_train.columns]\n",
    "sog_model.build_datetime = dt.datetime.now()"
   ]
  },
  {
   "cell_type": "code",
   "execution_count": 32,
   "metadata": {},
   "outputs": [
    {
     "name": "stdout",
     "output_type": "stream",
     "text": [
      "Writing file.  \"../models\\shots_on_goal_model.pkl\"\n"
     ]
    }
   ],
   "source": [
    "modelpath = '../models'\n",
    "save_file(sog_model, 'shots_on_goal_model.pkl', modelpath)"
   ]
  },
  {
   "cell_type": "code",
   "execution_count": 33,
   "metadata": {},
   "outputs": [],
   "source": [
    "%%capture\n",
    "reg_model(simple_pipe, 'assists_per_games')"
   ]
  },
  {
   "cell_type": "code",
   "execution_count": 34,
   "metadata": {},
   "outputs": [],
   "source": [
    "ass_model = simple_pipe\n",
    "ass_model.version = 1.0\n",
    "ass_model.pandas_version = pd.__version__\n",
    "ass_model.numpy_version = np.__version__\n",
    "ass_model.sklearn_version = sklearn_version\n",
    "ass_model.X_columns = [col for col in X_train.columns]\n",
    "ass_model.build_datetime = dt.datetime.now()"
   ]
  },
  {
   "cell_type": "code",
   "execution_count": 35,
   "metadata": {},
   "outputs": [
    {
     "name": "stdout",
     "output_type": "stream",
     "text": [
      "Writing file.  \"../models\\assists_model.pkl\"\n"
     ]
    }
   ],
   "source": [
    "modelpath = '../models'\n",
    "save_file(ass_model, 'assists_model.pkl', modelpath)"
   ]
  },
  {
   "cell_type": "code",
   "execution_count": 36,
   "metadata": {},
   "outputs": [],
   "source": [
    "%%capture\n",
    "reg_model(simple_pipe, 'goals_per_games')"
   ]
  },
  {
   "cell_type": "code",
   "execution_count": 37,
   "metadata": {},
   "outputs": [],
   "source": [
    "goal_model = simple_pipe\n",
    "goal_model.version = 1.0\n",
    "goal_model.pandas_version = pd.__version__\n",
    "goal_model.numpy_version = np.__version__\n",
    "goal_model.sklearn_version = sklearn_version\n",
    "goal_model.X_columns = [col for col in X_train.columns]\n",
    "goal_model.build_datetime = dt.datetime.now()"
   ]
  },
  {
   "cell_type": "code",
   "execution_count": 38,
   "metadata": {},
   "outputs": [
    {
     "name": "stdout",
     "output_type": "stream",
     "text": [
      "Writing file.  \"../models\\goals_model.pkl\"\n"
     ]
    }
   ],
   "source": [
    "modelpath = '../models'\n",
    "save_file(goal_model, 'goals_model.pkl', modelpath)"
   ]
  },
  {
   "cell_type": "markdown",
   "metadata": {},
   "source": [
    "## 10 Summary<a id='11_Summary'></a>"
   ]
  },
  {
   "cell_type": "markdown",
   "metadata": {},
   "source": [
    "Our simple linear regression model for each statistic performed meaningfully better than our baselines, while matching other more complex models. None of our attempts to increase complexity yielded any promise for improvement via further tweaking, so we have settled on the simple linear regression model.\n",
    "\n",
    "We also saw that our model is comfortably along the learning curve, with more rows unlikely to yield significantly better results. However, it is interesting to note that the features age, age_squared, and isForward are among the largest coefficients, suggesting that acquiring mode data for each player or engineering new features could be the most impactful way to improve the model."
   ]
  }
 ],
 "metadata": {
  "kernelspec": {
   "display_name": "TestEnv",
   "language": "python",
   "name": "python3"
  },
  "language_info": {
   "codemirror_mode": {
    "name": "ipython",
    "version": 3
   },
   "file_extension": ".py",
   "mimetype": "text/x-python",
   "name": "python",
   "nbconvert_exporter": "python",
   "pygments_lexer": "ipython3",
   "version": "3.12.0"
  }
 },
 "nbformat": 4,
 "nbformat_minor": 2
}
