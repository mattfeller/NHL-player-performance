{
 "cells": [
  {
   "cell_type": "markdown",
   "metadata": {},
   "source": [
    "# Preprocessing<a id='Preprocessing'></a>"
   ]
  },
  {
   "cell_type": "markdown",
   "metadata": {},
   "source": [
    "## 1 Contents<a id='1_Contents'></a>\n",
    "* [Preprocessing](#Preprocessing)\n",
    "  * [1 Contents](#1_Contents)\n",
    "  * [2 Introduction](#2_Introduction)\n",
    "  * [3 Imports](#3_Imports)\n",
    "  * [4 Load the data](#4_Load_the_data)\n",
    "  * [5 Time snapshots](#5_Time_snapshots)\n",
    "  * [6 Features](#6_Features)\n",
    "  * [7 Test train split](#7_Test_train_split)\n",
    "  * [8 Imputing](#8_Imputing)\n",
    "  * [9 Save the data](#9_Save_the_data)\n",
    "  * [10 Summary](#10_Summary)"
   ]
  },
  {
   "cell_type": "markdown",
   "metadata": {},
   "source": [
    "## 2 Introduction<a id='2_Introduction'></a>"
   ]
  },
  {
   "cell_type": "markdown",
   "metadata": {},
   "source": [
    "There are a number of tasks to accomplish before we can move on to the modeling step. First of all, the current state of the data is not such that we can simply take a subset of our columns to form our X and another column as y, so we must start by reorganizing the data. We create a new dataframe multi-indexed by time-window and player_id, with columns for the player's stats in that window and in the preceding five windows. Having done this, we move on to creating some more elaborate features, most importantly taking \"per game\" stats instead of absolute stats during each window.\n",
    "\n",
    "We split our data into a training set, a test set of *all* of the most recent two windows (9% of the data), and a randomized test set of the older windows (11% of the data). The reasoning for taking separate test sets is that each comes with its own pros/cons: testing with the most recent two windows gives us a glimpse of how a model does with 100% new information in the future, but testing with randomized windows avoids any bias from the particularities of the most recent season.\n",
    "\n",
    "At the end, we impute missing values and save our data, holding off on normalization until the modeling step in the next notebook."
   ]
  },
  {
   "cell_type": "markdown",
   "metadata": {},
   "source": [
    "## 3 Imports<a id='3_Imports'></a>"
   ]
  },
  {
   "cell_type": "code",
   "execution_count": 2,
   "metadata": {},
   "outputs": [],
   "source": [
    "import pandas as pd\n",
    "import matplotlib.pyplot as plt\n",
    "import seaborn as sns\n",
    "import datetime as dt\n",
    "import numpy as np\n",
    "\n",
    "from library.sb_utils import save_file\n",
    "from sklearn.metrics import mean_squared_error\n",
    "from sklearn.model_selection import train_test_split"
   ]
  },
  {
   "cell_type": "markdown",
   "metadata": {},
   "source": [
    "## 4 Load the data<a id='4_Load_the_data'></a>"
   ]
  },
  {
   "cell_type": "code",
   "execution_count": 3,
   "metadata": {},
   "outputs": [],
   "source": [
    "datapath = '../data/interim/'\n",
    "\n",
    "names = ['player_data_post_eda', 'team_data_post_eda', 'player_info_post_eda', 'team_info_post_eda', 'windows']\n",
    "\n",
    "df_player_data = pd.read_csv(datapath + 'player_data_post_eda.csv')\n",
    "df_player_info = pd.read_csv(datapath + 'player_info_post_eda.csv')\n",
    "df_team_data = pd.read_csv(datapath + 'team_data_post_eda.csv')\n",
    "df_team_info = pd.read_csv(datapath + 'team_info_post_eda.csv')\n",
    "df_windows = pd.read_csv(datapath + 'windows.csv')"
   ]
  },
  {
   "cell_type": "markdown",
   "metadata": {},
   "source": [
    "## 5 Time snapshots<a id='5_Time_snapshots'></a>"
   ]
  },
  {
   "cell_type": "markdown",
   "metadata": {},
   "source": [
    "In the previous notebook, we broke up our data into time windows. What we want to do now is to create more elaborate dataframe which contains the stats for each time window, as well as the stats for each of the five preceding windows."
   ]
  },
  {
   "cell_type": "code",
   "execution_count": 6,
   "metadata": {},
   "outputs": [
    {
     "data": {
      "text/html": [
       "<div>\n",
       "<style scoped>\n",
       "    .dataframe tbody tr th:only-of-type {\n",
       "        vertical-align: middle;\n",
       "    }\n",
       "\n",
       "    .dataframe tbody tr th {\n",
       "        vertical-align: top;\n",
       "    }\n",
       "\n",
       "    .dataframe thead th {\n",
       "        text-align: right;\n",
       "    }\n",
       "</style>\n",
       "<table border=\"1\" class=\"dataframe\">\n",
       "  <thead>\n",
       "    <tr style=\"text-align: right;\">\n",
       "      <th></th>\n",
       "      <th>player_id</th>\n",
       "      <th>attempted_shots_0</th>\n",
       "      <th>shots_on_goal_0</th>\n",
       "      <th>goals_0</th>\n",
       "      <th>assists_0</th>\n",
       "      <th>games_0</th>\n",
       "      <th>toi_0</th>\n",
       "      <th>pp_toi_0</th>\n",
       "      <th>onice_attempts_0</th>\n",
       "      <th>team_id_0</th>\n",
       "      <th>...</th>\n",
       "      <th>team_id_26</th>\n",
       "      <th>attempted_shots_27</th>\n",
       "      <th>shots_on_goal_27</th>\n",
       "      <th>goals_27</th>\n",
       "      <th>assists_27</th>\n",
       "      <th>games_27</th>\n",
       "      <th>toi_27</th>\n",
       "      <th>pp_toi_27</th>\n",
       "      <th>onice_attempts_27</th>\n",
       "      <th>team_id_27</th>\n",
       "    </tr>\n",
       "  </thead>\n",
       "  <tbody>\n",
       "    <tr>\n",
       "      <th>0</th>\n",
       "      <td>8466148</td>\n",
       "      <td>89.0</td>\n",
       "      <td>59.0</td>\n",
       "      <td>8.0</td>\n",
       "      <td>7.0</td>\n",
       "      <td>21.0</td>\n",
       "      <td>25096.0</td>\n",
       "      <td>3337.0</td>\n",
       "      <td>423.0</td>\n",
       "      <td>16.0</td>\n",
       "      <td>...</td>\n",
       "      <td>NaN</td>\n",
       "      <td>NaN</td>\n",
       "      <td>NaN</td>\n",
       "      <td>NaN</td>\n",
       "      <td>NaN</td>\n",
       "      <td>NaN</td>\n",
       "      <td>NaN</td>\n",
       "      <td>NaN</td>\n",
       "      <td>NaN</td>\n",
       "      <td>NaN</td>\n",
       "    </tr>\n",
       "    <tr>\n",
       "      <th>1</th>\n",
       "      <td>8465058</td>\n",
       "      <td>55.0</td>\n",
       "      <td>16.0</td>\n",
       "      <td>2.0</td>\n",
       "      <td>7.0</td>\n",
       "      <td>20.0</td>\n",
       "      <td>27325.0</td>\n",
       "      <td>4313.0</td>\n",
       "      <td>475.0</td>\n",
       "      <td>3.0</td>\n",
       "      <td>...</td>\n",
       "      <td>NaN</td>\n",
       "      <td>NaN</td>\n",
       "      <td>NaN</td>\n",
       "      <td>NaN</td>\n",
       "      <td>NaN</td>\n",
       "      <td>NaN</td>\n",
       "      <td>NaN</td>\n",
       "      <td>NaN</td>\n",
       "      <td>NaN</td>\n",
       "      <td>NaN</td>\n",
       "    </tr>\n",
       "    <tr>\n",
       "      <th>2</th>\n",
       "      <td>8476906</td>\n",
       "      <td>NaN</td>\n",
       "      <td>NaN</td>\n",
       "      <td>NaN</td>\n",
       "      <td>NaN</td>\n",
       "      <td>NaN</td>\n",
       "      <td>NaN</td>\n",
       "      <td>NaN</td>\n",
       "      <td>NaN</td>\n",
       "      <td>NaN</td>\n",
       "      <td>...</td>\n",
       "      <td>4.0</td>\n",
       "      <td>40.0</td>\n",
       "      <td>20.0</td>\n",
       "      <td>NaN</td>\n",
       "      <td>3.0</td>\n",
       "      <td>10.0</td>\n",
       "      <td>10911.0</td>\n",
       "      <td>1597.0</td>\n",
       "      <td>189.0</td>\n",
       "      <td>4.0</td>\n",
       "    </tr>\n",
       "    <tr>\n",
       "      <th>3</th>\n",
       "      <td>8466285</td>\n",
       "      <td>48.0</td>\n",
       "      <td>22.0</td>\n",
       "      <td>1.0</td>\n",
       "      <td>7.0</td>\n",
       "      <td>17.0</td>\n",
       "      <td>22531.0</td>\n",
       "      <td>2380.0</td>\n",
       "      <td>356.0</td>\n",
       "      <td>16.0</td>\n",
       "      <td>...</td>\n",
       "      <td>NaN</td>\n",
       "      <td>NaN</td>\n",
       "      <td>NaN</td>\n",
       "      <td>NaN</td>\n",
       "      <td>NaN</td>\n",
       "      <td>NaN</td>\n",
       "      <td>NaN</td>\n",
       "      <td>NaN</td>\n",
       "      <td>NaN</td>\n",
       "      <td>NaN</td>\n",
       "    </tr>\n",
       "    <tr>\n",
       "      <th>4</th>\n",
       "      <td>8470607</td>\n",
       "      <td>109.0</td>\n",
       "      <td>47.0</td>\n",
       "      <td>2.0</td>\n",
       "      <td>14.0</td>\n",
       "      <td>30.0</td>\n",
       "      <td>44955.0</td>\n",
       "      <td>4695.0</td>\n",
       "      <td>751.0</td>\n",
       "      <td>16.0</td>\n",
       "      <td>...</td>\n",
       "      <td>16.0</td>\n",
       "      <td>NaN</td>\n",
       "      <td>NaN</td>\n",
       "      <td>NaN</td>\n",
       "      <td>NaN</td>\n",
       "      <td>NaN</td>\n",
       "      <td>NaN</td>\n",
       "      <td>NaN</td>\n",
       "      <td>NaN</td>\n",
       "      <td>NaN</td>\n",
       "    </tr>\n",
       "  </tbody>\n",
       "</table>\n",
       "<p>5 rows × 253 columns</p>\n",
       "</div>"
      ],
      "text/plain": [
       "   player_id  attempted_shots_0  shots_on_goal_0  goals_0  assists_0  games_0  \\\n",
       "0    8466148               89.0             59.0      8.0        7.0     21.0   \n",
       "1    8465058               55.0             16.0      2.0        7.0     20.0   \n",
       "2    8476906                NaN              NaN      NaN        NaN      NaN   \n",
       "3    8466285               48.0             22.0      1.0        7.0     17.0   \n",
       "4    8470607              109.0             47.0      2.0       14.0     30.0   \n",
       "\n",
       "     toi_0  pp_toi_0  onice_attempts_0  team_id_0  ...  team_id_26  \\\n",
       "0  25096.0    3337.0             423.0       16.0  ...         NaN   \n",
       "1  27325.0    4313.0             475.0        3.0  ...         NaN   \n",
       "2      NaN       NaN               NaN        NaN  ...         4.0   \n",
       "3  22531.0    2380.0             356.0       16.0  ...         NaN   \n",
       "4  44955.0    4695.0             751.0       16.0  ...        16.0   \n",
       "\n",
       "   attempted_shots_27  shots_on_goal_27  goals_27  assists_27  games_27  \\\n",
       "0                 NaN               NaN       NaN         NaN       NaN   \n",
       "1                 NaN               NaN       NaN         NaN       NaN   \n",
       "2                40.0              20.0       NaN         3.0      10.0   \n",
       "3                 NaN               NaN       NaN         NaN       NaN   \n",
       "4                 NaN               NaN       NaN         NaN       NaN   \n",
       "\n",
       "    toi_27  pp_toi_27  onice_attempts_27  team_id_27  \n",
       "0      NaN        NaN                NaN         NaN  \n",
       "1      NaN        NaN                NaN         NaN  \n",
       "2  10911.0     1597.0              189.0         4.0  \n",
       "3      NaN        NaN                NaN         NaN  \n",
       "4      NaN        NaN                NaN         NaN  \n",
       "\n",
       "[5 rows x 253 columns]"
      ]
     },
     "execution_count": 6,
     "metadata": {},
     "output_type": "execute_result"
    }
   ],
   "source": [
    "df_player_data.head()"
   ]
  },
  {
   "cell_type": "code",
   "execution_count": 4,
   "metadata": {},
   "outputs": [],
   "source": [
    "melted_players = df_player_data.melt(id_vars='player_id')\n",
    "\n",
    "melted_players['window'] = melted_players['variable'].str.split('_').apply(lambda x : x[-1]).astype(int)\n",
    "melted_players['variable'] = melted_players['variable'].str.split('_').apply(lambda x : '_'.join(x[:-1]))\n",
    "\n",
    "pivoted_players = melted_players.pivot(index=['window','player_id'], columns='variable', values='value')"
   ]
  },
  {
   "cell_type": "code",
   "execution_count": 5,
   "metadata": {},
   "outputs": [
    {
     "data": {
      "text/html": [
       "<div>\n",
       "<style scoped>\n",
       "    .dataframe tbody tr th:only-of-type {\n",
       "        vertical-align: middle;\n",
       "    }\n",
       "\n",
       "    .dataframe tbody tr th {\n",
       "        vertical-align: top;\n",
       "    }\n",
       "\n",
       "    .dataframe thead th {\n",
       "        text-align: right;\n",
       "    }\n",
       "</style>\n",
       "<table border=\"1\" class=\"dataframe\">\n",
       "  <thead>\n",
       "    <tr style=\"text-align: right;\">\n",
       "      <th></th>\n",
       "      <th>variable</th>\n",
       "      <th>assists</th>\n",
       "      <th>attempted_shots</th>\n",
       "      <th>games</th>\n",
       "      <th>goals</th>\n",
       "      <th>onice_attempts</th>\n",
       "      <th>pp_toi</th>\n",
       "      <th>shots_on_goal</th>\n",
       "      <th>team_id</th>\n",
       "      <th>toi</th>\n",
       "    </tr>\n",
       "    <tr>\n",
       "      <th>window</th>\n",
       "      <th>player_id</th>\n",
       "      <th></th>\n",
       "      <th></th>\n",
       "      <th></th>\n",
       "      <th></th>\n",
       "      <th></th>\n",
       "      <th></th>\n",
       "      <th></th>\n",
       "      <th></th>\n",
       "      <th></th>\n",
       "    </tr>\n",
       "  </thead>\n",
       "  <tbody>\n",
       "    <tr>\n",
       "      <th rowspan=\"5\" valign=\"top\">0</th>\n",
       "      <th>8444894</th>\n",
       "      <td>NaN</td>\n",
       "      <td>NaN</td>\n",
       "      <td>NaN</td>\n",
       "      <td>NaN</td>\n",
       "      <td>NaN</td>\n",
       "      <td>NaN</td>\n",
       "      <td>NaN</td>\n",
       "      <td>NaN</td>\n",
       "      <td>NaN</td>\n",
       "    </tr>\n",
       "    <tr>\n",
       "      <th>8444919</th>\n",
       "      <td>NaN</td>\n",
       "      <td>NaN</td>\n",
       "      <td>NaN</td>\n",
       "      <td>NaN</td>\n",
       "      <td>NaN</td>\n",
       "      <td>NaN</td>\n",
       "      <td>NaN</td>\n",
       "      <td>NaN</td>\n",
       "      <td>NaN</td>\n",
       "    </tr>\n",
       "    <tr>\n",
       "      <th>8445000</th>\n",
       "      <td>NaN</td>\n",
       "      <td>NaN</td>\n",
       "      <td>NaN</td>\n",
       "      <td>NaN</td>\n",
       "      <td>NaN</td>\n",
       "      <td>NaN</td>\n",
       "      <td>NaN</td>\n",
       "      <td>NaN</td>\n",
       "      <td>NaN</td>\n",
       "    </tr>\n",
       "    <tr>\n",
       "      <th>8445176</th>\n",
       "      <td>NaN</td>\n",
       "      <td>NaN</td>\n",
       "      <td>NaN</td>\n",
       "      <td>NaN</td>\n",
       "      <td>NaN</td>\n",
       "      <td>NaN</td>\n",
       "      <td>NaN</td>\n",
       "      <td>NaN</td>\n",
       "      <td>NaN</td>\n",
       "    </tr>\n",
       "    <tr>\n",
       "      <th>8445266</th>\n",
       "      <td>NaN</td>\n",
       "      <td>NaN</td>\n",
       "      <td>NaN</td>\n",
       "      <td>NaN</td>\n",
       "      <td>NaN</td>\n",
       "      <td>NaN</td>\n",
       "      <td>NaN</td>\n",
       "      <td>NaN</td>\n",
       "      <td>NaN</td>\n",
       "    </tr>\n",
       "  </tbody>\n",
       "</table>\n",
       "</div>"
      ],
      "text/plain": [
       "variable          assists  attempted_shots  games  goals  onice_attempts  \\\n",
       "window player_id                                                           \n",
       "0      8444894        NaN              NaN    NaN    NaN             NaN   \n",
       "       8444919        NaN              NaN    NaN    NaN             NaN   \n",
       "       8445000        NaN              NaN    NaN    NaN             NaN   \n",
       "       8445176        NaN              NaN    NaN    NaN             NaN   \n",
       "       8445266        NaN              NaN    NaN    NaN             NaN   \n",
       "\n",
       "variable          pp_toi  shots_on_goal  team_id  toi  \n",
       "window player_id                                       \n",
       "0      8444894       NaN            NaN      NaN  NaN  \n",
       "       8444919       NaN            NaN      NaN  NaN  \n",
       "       8445000       NaN            NaN      NaN  NaN  \n",
       "       8445176       NaN            NaN      NaN  NaN  \n",
       "       8445266       NaN            NaN      NaN  NaN  "
      ]
     },
     "execution_count": 5,
     "metadata": {},
     "output_type": "execute_result"
    }
   ],
   "source": [
    "pivoted_players.head()"
   ]
  },
  {
   "cell_type": "code",
   "execution_count": 6,
   "metadata": {},
   "outputs": [],
   "source": [
    "melted_teams = df_team_data.melt(id_vars='team_id')\n",
    "\n",
    "melted_teams['window'] = melted_teams['variable'].str.split('_').apply(lambda x : x[-1]).astype(int)\n",
    "melted_teams['variable'] = melted_teams['variable'].str.split('_').apply(lambda x : '_'.join(x[:-1]))\n",
    "\n",
    "pivoted_teams = melted_teams.pivot(index=['window','team_id'], columns='variable', values='value')"
   ]
  },
  {
   "cell_type": "code",
   "execution_count": 7,
   "metadata": {},
   "outputs": [],
   "source": [
    "windows = pd.DataFrame([[5-j+i for j in range(6)] for i in range(23)])\n",
    "\n",
    "df_player = df_player_info.merge(windows, how='cross')\n",
    "\n",
    "df_team = df_team_info.merge(windows, how='cross')"
   ]
  },
  {
   "cell_type": "code",
   "execution_count": 8,
   "metadata": {},
   "outputs": [
    {
     "data": {
      "text/html": [
       "<div>\n",
       "<style scoped>\n",
       "    .dataframe tbody tr th:only-of-type {\n",
       "        vertical-align: middle;\n",
       "    }\n",
       "\n",
       "    .dataframe tbody tr th {\n",
       "        vertical-align: top;\n",
       "    }\n",
       "\n",
       "    .dataframe thead th {\n",
       "        text-align: right;\n",
       "    }\n",
       "</style>\n",
       "<table border=\"1\" class=\"dataframe\">\n",
       "  <thead>\n",
       "    <tr style=\"text-align: right;\">\n",
       "      <th></th>\n",
       "      <th></th>\n",
       "      <th>isForward</th>\n",
       "      <th>birthDate</th>\n",
       "      <th>height_cm</th>\n",
       "      <th>weight</th>\n",
       "      <th>assists</th>\n",
       "      <th>attempted_shots</th>\n",
       "      <th>games</th>\n",
       "      <th>goals</th>\n",
       "      <th>onice_attempts</th>\n",
       "      <th>pp_toi</th>\n",
       "      <th>...</th>\n",
       "      <th>toi_4</th>\n",
       "      <th>assists_5</th>\n",
       "      <th>attempted_shots_5</th>\n",
       "      <th>games_5</th>\n",
       "      <th>goals_5</th>\n",
       "      <th>onice_attempts_5</th>\n",
       "      <th>pp_toi_5</th>\n",
       "      <th>shots_on_goal_5</th>\n",
       "      <th>team_id_5</th>\n",
       "      <th>toi_5</th>\n",
       "    </tr>\n",
       "    <tr>\n",
       "      <th>player_id</th>\n",
       "      <th>window</th>\n",
       "      <th></th>\n",
       "      <th></th>\n",
       "      <th></th>\n",
       "      <th></th>\n",
       "      <th></th>\n",
       "      <th></th>\n",
       "      <th></th>\n",
       "      <th></th>\n",
       "      <th></th>\n",
       "      <th></th>\n",
       "      <th></th>\n",
       "      <th></th>\n",
       "      <th></th>\n",
       "      <th></th>\n",
       "      <th></th>\n",
       "      <th></th>\n",
       "      <th></th>\n",
       "      <th></th>\n",
       "      <th></th>\n",
       "      <th></th>\n",
       "      <th></th>\n",
       "    </tr>\n",
       "  </thead>\n",
       "  <tbody>\n",
       "    <tr>\n",
       "      <th rowspan=\"5\" valign=\"top\">8466148</th>\n",
       "      <th>5</th>\n",
       "      <td>True</td>\n",
       "      <td>1979-01-12</td>\n",
       "      <td>185.42</td>\n",
       "      <td>207.0</td>\n",
       "      <td>14.0</td>\n",
       "      <td>131.0</td>\n",
       "      <td>27.0</td>\n",
       "      <td>8.0</td>\n",
       "      <td>500.0</td>\n",
       "      <td>5160.0</td>\n",
       "      <td>...</td>\n",
       "      <td>19152.0</td>\n",
       "      <td>7.0</td>\n",
       "      <td>89.0</td>\n",
       "      <td>21.0</td>\n",
       "      <td>8.0</td>\n",
       "      <td>423.0</td>\n",
       "      <td>3337.0</td>\n",
       "      <td>59.0</td>\n",
       "      <td>16.0</td>\n",
       "      <td>25096.0</td>\n",
       "    </tr>\n",
       "    <tr>\n",
       "      <th>6</th>\n",
       "      <td>True</td>\n",
       "      <td>1979-01-12</td>\n",
       "      <td>185.42</td>\n",
       "      <td>207.0</td>\n",
       "      <td>10.0</td>\n",
       "      <td>144.0</td>\n",
       "      <td>26.0</td>\n",
       "      <td>11.0</td>\n",
       "      <td>506.0</td>\n",
       "      <td>4407.0</td>\n",
       "      <td>...</td>\n",
       "      <td>32608.0</td>\n",
       "      <td>7.0</td>\n",
       "      <td>88.0</td>\n",
       "      <td>17.0</td>\n",
       "      <td>4.0</td>\n",
       "      <td>345.0</td>\n",
       "      <td>3063.0</td>\n",
       "      <td>53.0</td>\n",
       "      <td>16.0</td>\n",
       "      <td>19152.0</td>\n",
       "    </tr>\n",
       "    <tr>\n",
       "      <th>7</th>\n",
       "      <td>True</td>\n",
       "      <td>1979-01-12</td>\n",
       "      <td>185.42</td>\n",
       "      <td>207.0</td>\n",
       "      <td>4.0</td>\n",
       "      <td>61.0</td>\n",
       "      <td>14.0</td>\n",
       "      <td>6.0</td>\n",
       "      <td>231.0</td>\n",
       "      <td>1927.0</td>\n",
       "      <td>...</td>\n",
       "      <td>32266.0</td>\n",
       "      <td>14.0</td>\n",
       "      <td>126.0</td>\n",
       "      <td>27.0</td>\n",
       "      <td>12.0</td>\n",
       "      <td>523.0</td>\n",
       "      <td>4131.0</td>\n",
       "      <td>82.0</td>\n",
       "      <td>16.0</td>\n",
       "      <td>32608.0</td>\n",
       "    </tr>\n",
       "    <tr>\n",
       "      <th>8</th>\n",
       "      <td>True</td>\n",
       "      <td>1979-01-12</td>\n",
       "      <td>185.42</td>\n",
       "      <td>207.0</td>\n",
       "      <td>9.0</td>\n",
       "      <td>147.0</td>\n",
       "      <td>23.0</td>\n",
       "      <td>11.0</td>\n",
       "      <td>459.0</td>\n",
       "      <td>3049.0</td>\n",
       "      <td>...</td>\n",
       "      <td>31715.0</td>\n",
       "      <td>15.0</td>\n",
       "      <td>144.0</td>\n",
       "      <td>27.0</td>\n",
       "      <td>11.0</td>\n",
       "      <td>541.0</td>\n",
       "      <td>5578.0</td>\n",
       "      <td>90.0</td>\n",
       "      <td>16.0</td>\n",
       "      <td>32266.0</td>\n",
       "    </tr>\n",
       "    <tr>\n",
       "      <th>9</th>\n",
       "      <td>True</td>\n",
       "      <td>1979-01-12</td>\n",
       "      <td>185.42</td>\n",
       "      <td>207.0</td>\n",
       "      <td>14.0</td>\n",
       "      <td>161.0</td>\n",
       "      <td>28.0</td>\n",
       "      <td>12.0</td>\n",
       "      <td>585.0</td>\n",
       "      <td>3396.0</td>\n",
       "      <td>...</td>\n",
       "      <td>33047.0</td>\n",
       "      <td>18.0</td>\n",
       "      <td>138.0</td>\n",
       "      <td>27.0</td>\n",
       "      <td>9.0</td>\n",
       "      <td>516.0</td>\n",
       "      <td>4630.0</td>\n",
       "      <td>75.0</td>\n",
       "      <td>16.0</td>\n",
       "      <td>31715.0</td>\n",
       "    </tr>\n",
       "  </tbody>\n",
       "</table>\n",
       "<p>5 rows × 58 columns</p>\n",
       "</div>"
      ],
      "text/plain": [
       "                  isForward   birthDate  height_cm  weight  assists  \\\n",
       "player_id window                                                      \n",
       "8466148   5            True  1979-01-12     185.42   207.0     14.0   \n",
       "          6            True  1979-01-12     185.42   207.0     10.0   \n",
       "          7            True  1979-01-12     185.42   207.0      4.0   \n",
       "          8            True  1979-01-12     185.42   207.0      9.0   \n",
       "          9            True  1979-01-12     185.42   207.0     14.0   \n",
       "\n",
       "                  attempted_shots  games  goals  onice_attempts  pp_toi  ...  \\\n",
       "player_id window                                                         ...   \n",
       "8466148   5                 131.0   27.0    8.0           500.0  5160.0  ...   \n",
       "          6                 144.0   26.0   11.0           506.0  4407.0  ...   \n",
       "          7                  61.0   14.0    6.0           231.0  1927.0  ...   \n",
       "          8                 147.0   23.0   11.0           459.0  3049.0  ...   \n",
       "          9                 161.0   28.0   12.0           585.0  3396.0  ...   \n",
       "\n",
       "                    toi_4  assists_5  attempted_shots_5  games_5  goals_5  \\\n",
       "player_id window                                                            \n",
       "8466148   5       19152.0        7.0               89.0     21.0      8.0   \n",
       "          6       32608.0        7.0               88.0     17.0      4.0   \n",
       "          7       32266.0       14.0              126.0     27.0     12.0   \n",
       "          8       31715.0       15.0              144.0     27.0     11.0   \n",
       "          9       33047.0       18.0              138.0     27.0      9.0   \n",
       "\n",
       "                  onice_attempts_5  pp_toi_5  shots_on_goal_5  team_id_5  \\\n",
       "player_id window                                                           \n",
       "8466148   5                  423.0    3337.0             59.0       16.0   \n",
       "          6                  345.0    3063.0             53.0       16.0   \n",
       "          7                  523.0    4131.0             82.0       16.0   \n",
       "          8                  541.0    5578.0             90.0       16.0   \n",
       "          9                  516.0    4630.0             75.0       16.0   \n",
       "\n",
       "                    toi_5  \n",
       "player_id window           \n",
       "8466148   5       25096.0  \n",
       "          6       19152.0  \n",
       "          7       32608.0  \n",
       "          8       32266.0  \n",
       "          9       31715.0  \n",
       "\n",
       "[5 rows x 58 columns]"
      ]
     },
     "execution_count": 8,
     "metadata": {},
     "output_type": "execute_result"
    }
   ],
   "source": [
    "df = df_player.merge(pivoted_players, how='inner', left_on=[0, 'player_id'], right_index=True)\n",
    "\n",
    "for i in range(1,6):\n",
    "    df = df.merge(pivoted_players, how='inner', left_on=[i, 'player_id'], right_index=True, suffixes=[None, '_' + str(i)])\n",
    "\n",
    "df = df.drop([1,2,3,4,5], axis=1)\n",
    "\n",
    "df = df.rename(columns={0:'window'}).set_index(['player_id', 'window'])\n",
    "\n",
    "df.head()"
   ]
  },
  {
   "cell_type": "code",
   "execution_count": 9,
   "metadata": {},
   "outputs": [],
   "source": [
    "dft = df_team.merge(pivoted_teams, how='inner', left_on=[0, 'team_id'], right_index=True)\n",
    "\n",
    "for i in range(1,6):\n",
    "    dft = dft.merge(pivoted_teams, how='inner', left_on=[i, 'team_id'], right_index=True, suffixes=[None, '_' + str(i)])\n",
    "\n",
    "dft = dft.drop([1,2,3,4,5], axis=1)\n",
    "\n",
    "dft = dft.rename(columns={0:'window'}).set_index(['team_id', 'window'])"
   ]
  },
  {
   "cell_type": "code",
   "execution_count": 10,
   "metadata": {},
   "outputs": [],
   "source": [
    "dft = dft.drop(columns=['franchiseId', 'shortName', 'teamName', 'abbreviation', 'link'])"
   ]
  },
  {
   "cell_type": "code",
   "execution_count": 11,
   "metadata": {},
   "outputs": [
    {
     "data": {
      "text/html": [
       "<div>\n",
       "<style scoped>\n",
       "    .dataframe tbody tr th:only-of-type {\n",
       "        vertical-align: middle;\n",
       "    }\n",
       "\n",
       "    .dataframe tbody tr th {\n",
       "        vertical-align: top;\n",
       "    }\n",
       "\n",
       "    .dataframe thead th {\n",
       "        text-align: right;\n",
       "    }\n",
       "</style>\n",
       "<table border=\"1\" class=\"dataframe\">\n",
       "  <thead>\n",
       "    <tr style=\"text-align: right;\">\n",
       "      <th></th>\n",
       "      <th></th>\n",
       "      <th>attempts_by_team_1</th>\n",
       "      <th>games_by_team_1</th>\n",
       "      <th>goals_by_team_1</th>\n",
       "      <th>attempts_by_team_2</th>\n",
       "      <th>games_by_team_2</th>\n",
       "      <th>goals_by_team_2</th>\n",
       "      <th>attempts_by_team_3</th>\n",
       "      <th>games_by_team_3</th>\n",
       "      <th>goals_by_team_3</th>\n",
       "      <th>attempts_by_team_4</th>\n",
       "      <th>games_by_team_4</th>\n",
       "      <th>goals_by_team_4</th>\n",
       "      <th>attempts_by_team_5</th>\n",
       "      <th>games_by_team_5</th>\n",
       "      <th>goals_by_team_5</th>\n",
       "    </tr>\n",
       "    <tr>\n",
       "      <th>team_id</th>\n",
       "      <th>window</th>\n",
       "      <th></th>\n",
       "      <th></th>\n",
       "      <th></th>\n",
       "      <th></th>\n",
       "      <th></th>\n",
       "      <th></th>\n",
       "      <th></th>\n",
       "      <th></th>\n",
       "      <th></th>\n",
       "      <th></th>\n",
       "      <th></th>\n",
       "      <th></th>\n",
       "      <th></th>\n",
       "      <th></th>\n",
       "      <th></th>\n",
       "    </tr>\n",
       "  </thead>\n",
       "  <tbody>\n",
       "    <tr>\n",
       "      <th rowspan=\"5\" valign=\"top\">1</th>\n",
       "      <th>5</th>\n",
       "      <td>1239.0</td>\n",
       "      <td>29.0</td>\n",
       "      <td>89.0</td>\n",
       "      <td>1277.0</td>\n",
       "      <td>26.0</td>\n",
       "      <td>65.0</td>\n",
       "      <td>1282.0</td>\n",
       "      <td>27.0</td>\n",
       "      <td>56.0</td>\n",
       "      <td>1404.0</td>\n",
       "      <td>28.0</td>\n",
       "      <td>68.0</td>\n",
       "      <td>1315.0</td>\n",
       "      <td>27.0</td>\n",
       "      <td>50.0</td>\n",
       "    </tr>\n",
       "    <tr>\n",
       "      <th>6</th>\n",
       "      <td>1290.0</td>\n",
       "      <td>27.0</td>\n",
       "      <td>74.0</td>\n",
       "      <td>1239.0</td>\n",
       "      <td>29.0</td>\n",
       "      <td>89.0</td>\n",
       "      <td>1277.0</td>\n",
       "      <td>26.0</td>\n",
       "      <td>65.0</td>\n",
       "      <td>1282.0</td>\n",
       "      <td>27.0</td>\n",
       "      <td>56.0</td>\n",
       "      <td>1404.0</td>\n",
       "      <td>28.0</td>\n",
       "      <td>68.0</td>\n",
       "    </tr>\n",
       "    <tr>\n",
       "      <th>7</th>\n",
       "      <td>1367.0</td>\n",
       "      <td>28.0</td>\n",
       "      <td>71.0</td>\n",
       "      <td>1290.0</td>\n",
       "      <td>27.0</td>\n",
       "      <td>74.0</td>\n",
       "      <td>1239.0</td>\n",
       "      <td>29.0</td>\n",
       "      <td>89.0</td>\n",
       "      <td>1277.0</td>\n",
       "      <td>26.0</td>\n",
       "      <td>65.0</td>\n",
       "      <td>1282.0</td>\n",
       "      <td>27.0</td>\n",
       "      <td>56.0</td>\n",
       "    </tr>\n",
       "    <tr>\n",
       "      <th>8</th>\n",
       "      <td>1023.0</td>\n",
       "      <td>20.0</td>\n",
       "      <td>41.0</td>\n",
       "      <td>1367.0</td>\n",
       "      <td>28.0</td>\n",
       "      <td>71.0</td>\n",
       "      <td>1290.0</td>\n",
       "      <td>27.0</td>\n",
       "      <td>74.0</td>\n",
       "      <td>1239.0</td>\n",
       "      <td>29.0</td>\n",
       "      <td>89.0</td>\n",
       "      <td>1277.0</td>\n",
       "      <td>26.0</td>\n",
       "      <td>65.0</td>\n",
       "    </tr>\n",
       "    <tr>\n",
       "      <th>9</th>\n",
       "      <td>1192.0</td>\n",
       "      <td>28.0</td>\n",
       "      <td>61.0</td>\n",
       "      <td>1023.0</td>\n",
       "      <td>20.0</td>\n",
       "      <td>41.0</td>\n",
       "      <td>1367.0</td>\n",
       "      <td>28.0</td>\n",
       "      <td>71.0</td>\n",
       "      <td>1290.0</td>\n",
       "      <td>27.0</td>\n",
       "      <td>74.0</td>\n",
       "      <td>1239.0</td>\n",
       "      <td>29.0</td>\n",
       "      <td>89.0</td>\n",
       "    </tr>\n",
       "  </tbody>\n",
       "</table>\n",
       "</div>"
      ],
      "text/plain": [
       "                attempts_by_team_1  games_by_team_1  goals_by_team_1  \\\n",
       "team_id window                                                         \n",
       "1       5                   1239.0             29.0             89.0   \n",
       "        6                   1290.0             27.0             74.0   \n",
       "        7                   1367.0             28.0             71.0   \n",
       "        8                   1023.0             20.0             41.0   \n",
       "        9                   1192.0             28.0             61.0   \n",
       "\n",
       "                attempts_by_team_2  games_by_team_2  goals_by_team_2  \\\n",
       "team_id window                                                         \n",
       "1       5                   1277.0             26.0             65.0   \n",
       "        6                   1239.0             29.0             89.0   \n",
       "        7                   1290.0             27.0             74.0   \n",
       "        8                   1367.0             28.0             71.0   \n",
       "        9                   1023.0             20.0             41.0   \n",
       "\n",
       "                attempts_by_team_3  games_by_team_3  goals_by_team_3  \\\n",
       "team_id window                                                         \n",
       "1       5                   1282.0             27.0             56.0   \n",
       "        6                   1277.0             26.0             65.0   \n",
       "        7                   1239.0             29.0             89.0   \n",
       "        8                   1290.0             27.0             74.0   \n",
       "        9                   1367.0             28.0             71.0   \n",
       "\n",
       "                attempts_by_team_4  games_by_team_4  goals_by_team_4  \\\n",
       "team_id window                                                         \n",
       "1       5                   1404.0             28.0             68.0   \n",
       "        6                   1282.0             27.0             56.0   \n",
       "        7                   1277.0             26.0             65.0   \n",
       "        8                   1239.0             29.0             89.0   \n",
       "        9                   1290.0             27.0             74.0   \n",
       "\n",
       "                attempts_by_team_5  games_by_team_5  goals_by_team_5  \n",
       "team_id window                                                        \n",
       "1       5                   1315.0             27.0             50.0  \n",
       "        6                   1404.0             28.0             68.0  \n",
       "        7                   1282.0             27.0             56.0  \n",
       "        8                   1277.0             26.0             65.0  \n",
       "        9                   1239.0             29.0             89.0  "
      ]
     },
     "execution_count": 11,
     "metadata": {},
     "output_type": "execute_result"
    }
   ],
   "source": [
    "dft = dft.drop(columns=['attempts_by_team', 'games_by_team', 'goals_by_team'])\n",
    "\n",
    "dft.head()"
   ]
  },
  {
   "cell_type": "code",
   "execution_count": 12,
   "metadata": {},
   "outputs": [],
   "source": [
    "def team_per_game(s):\n",
    "    total_games = dft['games_by_team_1'] + dft['games_by_team_2'] + dft['games_by_team_3'] + dft['games_by_team_4'] + dft['games_by_team_5']\n",
    "    weighted_sum = dft[s+'s_by_team_1'] * 1.5 + dft[s+'s_by_team_2'] * 1.25 + dft[s+'s_by_team_3'] * 1 + dft[s+'s_by_team_4'] * 0.75 + dft[s+'s_by_team_5'] * 0.5\n",
    "    return weighted_sum / total_games"
   ]
  },
  {
   "cell_type": "code",
   "execution_count": 13,
   "metadata": {},
   "outputs": [
    {
     "data": {
      "text/html": [
       "<div>\n",
       "<style scoped>\n",
       "    .dataframe tbody tr th:only-of-type {\n",
       "        vertical-align: middle;\n",
       "    }\n",
       "\n",
       "    .dataframe tbody tr th {\n",
       "        vertical-align: top;\n",
       "    }\n",
       "\n",
       "    .dataframe thead th {\n",
       "        text-align: right;\n",
       "    }\n",
       "</style>\n",
       "<table border=\"1\" class=\"dataframe\">\n",
       "  <thead>\n",
       "    <tr style=\"text-align: right;\">\n",
       "      <th></th>\n",
       "      <th></th>\n",
       "      <th>attempts_by_team_1</th>\n",
       "      <th>games_by_team_1</th>\n",
       "      <th>goals_by_team_1</th>\n",
       "      <th>attempts_by_team_2</th>\n",
       "      <th>games_by_team_2</th>\n",
       "      <th>goals_by_team_2</th>\n",
       "      <th>attempts_by_team_3</th>\n",
       "      <th>games_by_team_3</th>\n",
       "      <th>goals_by_team_3</th>\n",
       "      <th>attempts_by_team_4</th>\n",
       "      <th>games_by_team_4</th>\n",
       "      <th>goals_by_team_4</th>\n",
       "      <th>attempts_by_team_5</th>\n",
       "      <th>games_by_team_5</th>\n",
       "      <th>goals_by_team_5</th>\n",
       "      <th>weighted_avg_recent_attempts_per_game</th>\n",
       "      <th>weighted_avg_recent_goals_per_game</th>\n",
       "    </tr>\n",
       "    <tr>\n",
       "      <th>team_id</th>\n",
       "      <th>window</th>\n",
       "      <th></th>\n",
       "      <th></th>\n",
       "      <th></th>\n",
       "      <th></th>\n",
       "      <th></th>\n",
       "      <th></th>\n",
       "      <th></th>\n",
       "      <th></th>\n",
       "      <th></th>\n",
       "      <th></th>\n",
       "      <th></th>\n",
       "      <th></th>\n",
       "      <th></th>\n",
       "      <th></th>\n",
       "      <th></th>\n",
       "      <th></th>\n",
       "      <th></th>\n",
       "    </tr>\n",
       "  </thead>\n",
       "  <tbody>\n",
       "    <tr>\n",
       "      <th rowspan=\"5\" valign=\"top\">1</th>\n",
       "      <th>5</th>\n",
       "      <td>1239.0</td>\n",
       "      <td>29.0</td>\n",
       "      <td>89.0</td>\n",
       "      <td>1277.0</td>\n",
       "      <td>26.0</td>\n",
       "      <td>65.0</td>\n",
       "      <td>1282.0</td>\n",
       "      <td>27.0</td>\n",
       "      <td>56.0</td>\n",
       "      <td>1404.0</td>\n",
       "      <td>28.0</td>\n",
       "      <td>68.0</td>\n",
       "      <td>1315.0</td>\n",
       "      <td>27.0</td>\n",
       "      <td>50.0</td>\n",
       "      <td>47.060219</td>\n",
       "      <td>2.531022</td>\n",
       "    </tr>\n",
       "    <tr>\n",
       "      <th>6</th>\n",
       "      <td>1290.0</td>\n",
       "      <td>27.0</td>\n",
       "      <td>74.0</td>\n",
       "      <td>1239.0</td>\n",
       "      <td>29.0</td>\n",
       "      <td>89.0</td>\n",
       "      <td>1277.0</td>\n",
       "      <td>26.0</td>\n",
       "      <td>65.0</td>\n",
       "      <td>1282.0</td>\n",
       "      <td>27.0</td>\n",
       "      <td>56.0</td>\n",
       "      <td>1404.0</td>\n",
       "      <td>28.0</td>\n",
       "      <td>68.0</td>\n",
       "      <td>46.892336</td>\n",
       "      <td>2.651460</td>\n",
       "    </tr>\n",
       "    <tr>\n",
       "      <th>7</th>\n",
       "      <td>1367.0</td>\n",
       "      <td>28.0</td>\n",
       "      <td>71.0</td>\n",
       "      <td>1290.0</td>\n",
       "      <td>27.0</td>\n",
       "      <td>74.0</td>\n",
       "      <td>1239.0</td>\n",
       "      <td>29.0</td>\n",
       "      <td>89.0</td>\n",
       "      <td>1277.0</td>\n",
       "      <td>26.0</td>\n",
       "      <td>65.0</td>\n",
       "      <td>1282.0</td>\n",
       "      <td>27.0</td>\n",
       "      <td>56.0</td>\n",
       "      <td>47.450730</td>\n",
       "      <td>2.662409</td>\n",
       "    </tr>\n",
       "    <tr>\n",
       "      <th>8</th>\n",
       "      <td>1023.0</td>\n",
       "      <td>20.0</td>\n",
       "      <td>41.0</td>\n",
       "      <td>1367.0</td>\n",
       "      <td>28.0</td>\n",
       "      <td>71.0</td>\n",
       "      <td>1290.0</td>\n",
       "      <td>27.0</td>\n",
       "      <td>74.0</td>\n",
       "      <td>1239.0</td>\n",
       "      <td>29.0</td>\n",
       "      <td>89.0</td>\n",
       "      <td>1277.0</td>\n",
       "      <td>26.0</td>\n",
       "      <td>65.0</td>\n",
       "      <td>46.930769</td>\n",
       "      <td>2.488462</td>\n",
       "    </tr>\n",
       "    <tr>\n",
       "      <th>9</th>\n",
       "      <td>1192.0</td>\n",
       "      <td>28.0</td>\n",
       "      <td>61.0</td>\n",
       "      <td>1023.0</td>\n",
       "      <td>20.0</td>\n",
       "      <td>41.0</td>\n",
       "      <td>1367.0</td>\n",
       "      <td>28.0</td>\n",
       "      <td>71.0</td>\n",
       "      <td>1290.0</td>\n",
       "      <td>27.0</td>\n",
       "      <td>74.0</td>\n",
       "      <td>1239.0</td>\n",
       "      <td>29.0</td>\n",
       "      <td>89.0</td>\n",
       "      <td>45.611742</td>\n",
       "      <td>2.376894</td>\n",
       "    </tr>\n",
       "  </tbody>\n",
       "</table>\n",
       "</div>"
      ],
      "text/plain": [
       "                attempts_by_team_1  games_by_team_1  goals_by_team_1  \\\n",
       "team_id window                                                         \n",
       "1       5                   1239.0             29.0             89.0   \n",
       "        6                   1290.0             27.0             74.0   \n",
       "        7                   1367.0             28.0             71.0   \n",
       "        8                   1023.0             20.0             41.0   \n",
       "        9                   1192.0             28.0             61.0   \n",
       "\n",
       "                attempts_by_team_2  games_by_team_2  goals_by_team_2  \\\n",
       "team_id window                                                         \n",
       "1       5                   1277.0             26.0             65.0   \n",
       "        6                   1239.0             29.0             89.0   \n",
       "        7                   1290.0             27.0             74.0   \n",
       "        8                   1367.0             28.0             71.0   \n",
       "        9                   1023.0             20.0             41.0   \n",
       "\n",
       "                attempts_by_team_3  games_by_team_3  goals_by_team_3  \\\n",
       "team_id window                                                         \n",
       "1       5                   1282.0             27.0             56.0   \n",
       "        6                   1277.0             26.0             65.0   \n",
       "        7                   1239.0             29.0             89.0   \n",
       "        8                   1290.0             27.0             74.0   \n",
       "        9                   1367.0             28.0             71.0   \n",
       "\n",
       "                attempts_by_team_4  games_by_team_4  goals_by_team_4  \\\n",
       "team_id window                                                         \n",
       "1       5                   1404.0             28.0             68.0   \n",
       "        6                   1282.0             27.0             56.0   \n",
       "        7                   1277.0             26.0             65.0   \n",
       "        8                   1239.0             29.0             89.0   \n",
       "        9                   1290.0             27.0             74.0   \n",
       "\n",
       "                attempts_by_team_5  games_by_team_5  goals_by_team_5  \\\n",
       "team_id window                                                         \n",
       "1       5                   1315.0             27.0             50.0   \n",
       "        6                   1404.0             28.0             68.0   \n",
       "        7                   1282.0             27.0             56.0   \n",
       "        8                   1277.0             26.0             65.0   \n",
       "        9                   1239.0             29.0             89.0   \n",
       "\n",
       "                weighted_avg_recent_attempts_per_game  \\\n",
       "team_id window                                          \n",
       "1       5                                   47.060219   \n",
       "        6                                   46.892336   \n",
       "        7                                   47.450730   \n",
       "        8                                   46.930769   \n",
       "        9                                   45.611742   \n",
       "\n",
       "                weighted_avg_recent_goals_per_game  \n",
       "team_id window                                      \n",
       "1       5                                 2.531022  \n",
       "        6                                 2.651460  \n",
       "        7                                 2.662409  \n",
       "        8                                 2.488462  \n",
       "        9                                 2.376894  "
      ]
     },
     "execution_count": 13,
     "metadata": {},
     "output_type": "execute_result"
    }
   ],
   "source": [
    "dft['weighted_avg_recent_attempts_per_game'] = team_per_game('attempt')\n",
    "dft['weighted_avg_recent_goals_per_game'] = team_per_game('goal')\n",
    "\n",
    "dft.head()"
   ]
  },
  {
   "cell_type": "markdown",
   "metadata": {},
   "source": [
    "## 6 Features<a id='6_Features'></a>"
   ]
  },
  {
   "cell_type": "code",
   "execution_count": 14,
   "metadata": {},
   "outputs": [
    {
     "data": {
      "text/plain": [
       "Index(['isForward', 'birthDate', 'height_cm', 'weight', 'assists',\n",
       "       'attempted_shots', 'games', 'goals', 'onice_attempts', 'pp_toi',\n",
       "       'shots_on_goal', 'team_id', 'toi', 'assists_1', 'attempted_shots_1',\n",
       "       'games_1', 'goals_1', 'onice_attempts_1', 'pp_toi_1', 'shots_on_goal_1',\n",
       "       'team_id_1', 'toi_1', 'assists_2', 'attempted_shots_2', 'games_2',\n",
       "       'goals_2', 'onice_attempts_2', 'pp_toi_2', 'shots_on_goal_2',\n",
       "       'team_id_2', 'toi_2', 'assists_3', 'attempted_shots_3', 'games_3',\n",
       "       'goals_3', 'onice_attempts_3', 'pp_toi_3', 'shots_on_goal_3',\n",
       "       'team_id_3', 'toi_3', 'assists_4', 'attempted_shots_4', 'games_4',\n",
       "       'goals_4', 'onice_attempts_4', 'pp_toi_4', 'shots_on_goal_4',\n",
       "       'team_id_4', 'toi_4', 'assists_5', 'attempted_shots_5', 'games_5',\n",
       "       'goals_5', 'onice_attempts_5', 'pp_toi_5', 'shots_on_goal_5',\n",
       "       'team_id_5', 'toi_5'],\n",
       "      dtype='object')"
      ]
     },
     "execution_count": 14,
     "metadata": {},
     "output_type": "execute_result"
    }
   ],
   "source": [
    "df.columns"
   ]
  },
  {
   "cell_type": "markdown",
   "metadata": {},
   "source": [
    "Some of the columns above are already features we would like to include in our model: isForward, height_cm, weight. Let's make sure these are numerical datatypes."
   ]
  },
  {
   "cell_type": "code",
   "execution_count": 15,
   "metadata": {},
   "outputs": [
    {
     "name": "stdout",
     "output_type": "stream",
     "text": [
      "<class 'pandas.core.frame.DataFrame'>\n",
      "MultiIndex: 80293 entries, (8466148, 5) to (8477352, 27)\n",
      "Data columns (total 3 columns):\n",
      " #   Column     Non-Null Count  Dtype  \n",
      "---  ------     --------------  -----  \n",
      " 0   isForward  80293 non-null  bool   \n",
      " 1   height_cm  80293 non-null  float64\n",
      " 2   weight     80293 non-null  float64\n",
      "dtypes: bool(1), float64(2)\n",
      "memory usage: 1.7 MB\n"
     ]
    }
   ],
   "source": [
    "df.loc[:,['isForward', 'height_cm', 'weight']].info()"
   ]
  },
  {
   "cell_type": "code",
   "execution_count": 16,
   "metadata": {},
   "outputs": [],
   "source": [
    "df['isForward'] = df['isForward'].astype(int)"
   ]
  },
  {
   "cell_type": "markdown",
   "metadata": {},
   "source": [
    "For the rest of the features, we combine two or more columns, or use the teams dataframe. One feature we would like to use is age. Since players' production tends to peak mid-way through their career, it also makes sense to include age squared as a feature."
   ]
  },
  {
   "cell_type": "code",
   "execution_count": 17,
   "metadata": {},
   "outputs": [],
   "source": [
    "df.reset_index(inplace=True)"
   ]
  },
  {
   "cell_type": "code",
   "execution_count": 18,
   "metadata": {},
   "outputs": [],
   "source": [
    "df = df.merge(df_windows, how='inner', left_on='window', right_index=True)"
   ]
  },
  {
   "cell_type": "code",
   "execution_count": 19,
   "metadata": {},
   "outputs": [],
   "source": [
    "df['birthDate']= pd.to_datetime(df['birthDate'])\n",
    "df['start']= pd.to_datetime(df['start'])"
   ]
  },
  {
   "cell_type": "code",
   "execution_count": 20,
   "metadata": {},
   "outputs": [],
   "source": [
    "df['age'] = (df['start'] - df['birthDate']).dt.days"
   ]
  },
  {
   "cell_type": "code",
   "execution_count": 21,
   "metadata": {},
   "outputs": [],
   "source": [
    "df['age_squared'] = df['age'] ** 2"
   ]
  },
  {
   "cell_type": "code",
   "execution_count": 22,
   "metadata": {},
   "outputs": [
    {
     "data": {
      "text/html": [
       "<div>\n",
       "<style scoped>\n",
       "    .dataframe tbody tr th:only-of-type {\n",
       "        vertical-align: middle;\n",
       "    }\n",
       "\n",
       "    .dataframe tbody tr th {\n",
       "        vertical-align: top;\n",
       "    }\n",
       "\n",
       "    .dataframe thead th {\n",
       "        text-align: right;\n",
       "    }\n",
       "</style>\n",
       "<table border=\"1\" class=\"dataframe\">\n",
       "  <thead>\n",
       "    <tr style=\"text-align: right;\">\n",
       "      <th></th>\n",
       "      <th>player_id</th>\n",
       "      <th>window</th>\n",
       "      <th>isForward</th>\n",
       "      <th>birthDate</th>\n",
       "      <th>height_cm</th>\n",
       "      <th>weight</th>\n",
       "      <th>assists</th>\n",
       "      <th>attempted_shots</th>\n",
       "      <th>games</th>\n",
       "      <th>goals</th>\n",
       "      <th>...</th>\n",
       "      <th>goals_5</th>\n",
       "      <th>onice_attempts_5</th>\n",
       "      <th>pp_toi_5</th>\n",
       "      <th>shots_on_goal_5</th>\n",
       "      <th>team_id_5</th>\n",
       "      <th>toi_5</th>\n",
       "      <th>start</th>\n",
       "      <th>end</th>\n",
       "      <th>age</th>\n",
       "      <th>age_squared</th>\n",
       "    </tr>\n",
       "  </thead>\n",
       "  <tbody>\n",
       "    <tr>\n",
       "      <th>0</th>\n",
       "      <td>8466148</td>\n",
       "      <td>5</td>\n",
       "      <td>1</td>\n",
       "      <td>1979-01-12</td>\n",
       "      <td>185.42</td>\n",
       "      <td>207.0</td>\n",
       "      <td>14.0</td>\n",
       "      <td>131.0</td>\n",
       "      <td>27.0</td>\n",
       "      <td>8.0</td>\n",
       "      <td>...</td>\n",
       "      <td>8.0</td>\n",
       "      <td>423.0</td>\n",
       "      <td>3337.0</td>\n",
       "      <td>59.0</td>\n",
       "      <td>16.0</td>\n",
       "      <td>25096.0</td>\n",
       "      <td>2012-02-12</td>\n",
       "      <td>2013-01-19</td>\n",
       "      <td>12084</td>\n",
       "      <td>146023056</td>\n",
       "    </tr>\n",
       "    <tr>\n",
       "      <th>23</th>\n",
       "      <td>8465058</td>\n",
       "      <td>5</td>\n",
       "      <td>0</td>\n",
       "      <td>1978-09-03</td>\n",
       "      <td>185.42</td>\n",
       "      <td>210.0</td>\n",
       "      <td>5.0</td>\n",
       "      <td>61.0</td>\n",
       "      <td>27.0</td>\n",
       "      <td>1.0</td>\n",
       "      <td>...</td>\n",
       "      <td>2.0</td>\n",
       "      <td>475.0</td>\n",
       "      <td>4313.0</td>\n",
       "      <td>16.0</td>\n",
       "      <td>3.0</td>\n",
       "      <td>27325.0</td>\n",
       "      <td>2012-02-12</td>\n",
       "      <td>2013-01-19</td>\n",
       "      <td>12215</td>\n",
       "      <td>149206225</td>\n",
       "    </tr>\n",
       "    <tr>\n",
       "      <th>46</th>\n",
       "      <td>8476906</td>\n",
       "      <td>5</td>\n",
       "      <td>0</td>\n",
       "      <td>1993-04-20</td>\n",
       "      <td>180.34</td>\n",
       "      <td>180.0</td>\n",
       "      <td>NaN</td>\n",
       "      <td>NaN</td>\n",
       "      <td>NaN</td>\n",
       "      <td>NaN</td>\n",
       "      <td>...</td>\n",
       "      <td>NaN</td>\n",
       "      <td>NaN</td>\n",
       "      <td>NaN</td>\n",
       "      <td>NaN</td>\n",
       "      <td>NaN</td>\n",
       "      <td>NaN</td>\n",
       "      <td>2012-02-12</td>\n",
       "      <td>2013-01-19</td>\n",
       "      <td>6872</td>\n",
       "      <td>47224384</td>\n",
       "    </tr>\n",
       "    <tr>\n",
       "      <th>69</th>\n",
       "      <td>8466285</td>\n",
       "      <td>5</td>\n",
       "      <td>0</td>\n",
       "      <td>1979-05-23</td>\n",
       "      <td>177.80</td>\n",
       "      <td>192.0</td>\n",
       "      <td>15.0</td>\n",
       "      <td>104.0</td>\n",
       "      <td>28.0</td>\n",
       "      <td>1.0</td>\n",
       "      <td>...</td>\n",
       "      <td>1.0</td>\n",
       "      <td>356.0</td>\n",
       "      <td>2380.0</td>\n",
       "      <td>22.0</td>\n",
       "      <td>16.0</td>\n",
       "      <td>22531.0</td>\n",
       "      <td>2012-02-12</td>\n",
       "      <td>2013-01-19</td>\n",
       "      <td>11953</td>\n",
       "      <td>142874209</td>\n",
       "    </tr>\n",
       "    <tr>\n",
       "      <th>92</th>\n",
       "      <td>8470607</td>\n",
       "      <td>5</td>\n",
       "      <td>0</td>\n",
       "      <td>1985-04-20</td>\n",
       "      <td>190.50</td>\n",
       "      <td>220.0</td>\n",
       "      <td>8.0</td>\n",
       "      <td>121.0</td>\n",
       "      <td>27.0</td>\n",
       "      <td>4.0</td>\n",
       "      <td>...</td>\n",
       "      <td>2.0</td>\n",
       "      <td>751.0</td>\n",
       "      <td>4695.0</td>\n",
       "      <td>47.0</td>\n",
       "      <td>16.0</td>\n",
       "      <td>44955.0</td>\n",
       "      <td>2012-02-12</td>\n",
       "      <td>2013-01-19</td>\n",
       "      <td>9794</td>\n",
       "      <td>95922436</td>\n",
       "    </tr>\n",
       "  </tbody>\n",
       "</table>\n",
       "<p>5 rows × 64 columns</p>\n",
       "</div>"
      ],
      "text/plain": [
       "    player_id  window  isForward  birthDate  height_cm  weight  assists  \\\n",
       "0     8466148       5          1 1979-01-12     185.42   207.0     14.0   \n",
       "23    8465058       5          0 1978-09-03     185.42   210.0      5.0   \n",
       "46    8476906       5          0 1993-04-20     180.34   180.0      NaN   \n",
       "69    8466285       5          0 1979-05-23     177.80   192.0     15.0   \n",
       "92    8470607       5          0 1985-04-20     190.50   220.0      8.0   \n",
       "\n",
       "    attempted_shots  games  goals  ...  goals_5  onice_attempts_5  pp_toi_5  \\\n",
       "0             131.0   27.0    8.0  ...      8.0             423.0    3337.0   \n",
       "23             61.0   27.0    1.0  ...      2.0             475.0    4313.0   \n",
       "46              NaN    NaN    NaN  ...      NaN               NaN       NaN   \n",
       "69            104.0   28.0    1.0  ...      1.0             356.0    2380.0   \n",
       "92            121.0   27.0    4.0  ...      2.0             751.0    4695.0   \n",
       "\n",
       "    shots_on_goal_5  team_id_5    toi_5      start         end    age  \\\n",
       "0              59.0       16.0  25096.0 2012-02-12  2013-01-19  12084   \n",
       "23             16.0        3.0  27325.0 2012-02-12  2013-01-19  12215   \n",
       "46              NaN        NaN      NaN 2012-02-12  2013-01-19   6872   \n",
       "69             22.0       16.0  22531.0 2012-02-12  2013-01-19  11953   \n",
       "92             47.0       16.0  44955.0 2012-02-12  2013-01-19   9794   \n",
       "\n",
       "    age_squared  \n",
       "0     146023056  \n",
       "23    149206225  \n",
       "46     47224384  \n",
       "69    142874209  \n",
       "92     95922436  \n",
       "\n",
       "[5 rows x 64 columns]"
      ]
     },
     "execution_count": 22,
     "metadata": {},
     "output_type": "execute_result"
    }
   ],
   "source": [
    "df.head()"
   ]
  },
  {
   "cell_type": "markdown",
   "metadata": {},
   "source": [
    "We would like to replace many of these stats with a per-game version."
   ]
  },
  {
   "cell_type": "code",
   "execution_count": 23,
   "metadata": {},
   "outputs": [],
   "source": [
    "colnames = ['assists', 'attempted_shots', 'goals', 'onice_attempts', 'pp_toi',\n",
    "       'shots_on_goal', 'toi']\n",
    "\n",
    "# colnames_indexed = [col + '_' + str(i) for col in colnames for i in range(1,6)]"
   ]
  },
  {
   "cell_type": "code",
   "execution_count": 24,
   "metadata": {},
   "outputs": [],
   "source": [
    "def divide_by_column(df, numerators, denominator):\n",
    "    for num in numerators:\n",
    "        df[num + '_per_' + denominator] = df[num] / df[denominator]"
   ]
  },
  {
   "cell_type": "code",
   "execution_count": 25,
   "metadata": {},
   "outputs": [],
   "source": [
    "divide_by_column(df, colnames, 'games')\n",
    "\n",
    "for i in range(1,6):\n",
    "    divide_by_column(df, [col + '_' + str(i) for col in colnames], 'games' + '_' + str(i))"
   ]
  },
  {
   "cell_type": "code",
   "execution_count": 26,
   "metadata": {},
   "outputs": [
    {
     "data": {
      "text/plain": [
       "Index(['player_id', 'window', 'isForward', 'birthDate', 'height_cm', 'weight',\n",
       "       'assists', 'attempted_shots', 'games', 'goals',\n",
       "       ...\n",
       "       'pp_toi_4_per_games_4', 'shots_on_goal_4_per_games_4',\n",
       "       'toi_4_per_games_4', 'assists_5_per_games_5',\n",
       "       'attempted_shots_5_per_games_5', 'goals_5_per_games_5',\n",
       "       'onice_attempts_5_per_games_5', 'pp_toi_5_per_games_5',\n",
       "       'shots_on_goal_5_per_games_5', 'toi_5_per_games_5'],\n",
       "      dtype='object', length=106)"
      ]
     },
     "execution_count": 26,
     "metadata": {},
     "output_type": "execute_result"
    }
   ],
   "source": [
    "df.columns"
   ]
  },
  {
   "cell_type": "markdown",
   "metadata": {},
   "source": [
    "Let's now add in the information about recent performance for each player's team, and then clean up the dataframe."
   ]
  },
  {
   "cell_type": "code",
   "execution_count": 27,
   "metadata": {},
   "outputs": [],
   "source": [
    "df = df.merge(dft.reset_index()[['team_id', 'window', 'weighted_avg_recent_attempts_per_game', 'weighted_avg_recent_goals_per_game']], how='left', on=['team_id', 'window'])"
   ]
  },
  {
   "cell_type": "markdown",
   "metadata": {},
   "source": [
    "Let's rename the columns we just added, drop rows for players that did not play enough games in the given window, and drop the columns we are not going to use as features."
   ]
  },
  {
   "cell_type": "code",
   "execution_count": 28,
   "metadata": {},
   "outputs": [],
   "source": [
    "df = df.rename(columns={'weighted_avg_recent_attempts_per_game' : 'recent_team_attempts_per_game', 'weighted_avg_recent_goals_per_game' : 'recent_team_goals_per_game'})"
   ]
  },
  {
   "cell_type": "code",
   "execution_count": 29,
   "metadata": {},
   "outputs": [],
   "source": [
    "df = df.dropna(subset='games')"
   ]
  },
  {
   "cell_type": "code",
   "execution_count": 30,
   "metadata": {},
   "outputs": [],
   "source": [
    "df = df[df['games'] >= 10]"
   ]
  },
  {
   "cell_type": "code",
   "execution_count": 31,
   "metadata": {},
   "outputs": [
    {
     "data": {
      "text/plain": [
       "(14188, 108)"
      ]
     },
     "execution_count": 31,
     "metadata": {},
     "output_type": "execute_result"
    }
   ],
   "source": [
    "df.shape"
   ]
  },
  {
   "cell_type": "code",
   "execution_count": 32,
   "metadata": {},
   "outputs": [
    {
     "data": {
      "text/html": [
       "<div>\n",
       "<style scoped>\n",
       "    .dataframe tbody tr th:only-of-type {\n",
       "        vertical-align: middle;\n",
       "    }\n",
       "\n",
       "    .dataframe tbody tr th {\n",
       "        vertical-align: top;\n",
       "    }\n",
       "\n",
       "    .dataframe thead th {\n",
       "        text-align: right;\n",
       "    }\n",
       "</style>\n",
       "<table border=\"1\" class=\"dataframe\">\n",
       "  <thead>\n",
       "    <tr style=\"text-align: right;\">\n",
       "      <th></th>\n",
       "      <th></th>\n",
       "      <th>assists_per_games</th>\n",
       "      <th>goals_per_games</th>\n",
       "      <th>shots_on_goal_per_games</th>\n",
       "      <th>isForward</th>\n",
       "      <th>height_cm</th>\n",
       "      <th>weight</th>\n",
       "      <th>age</th>\n",
       "      <th>age_squared</th>\n",
       "      <th>assists_1_per_games_1</th>\n",
       "      <th>attempted_shots_1_per_games_1</th>\n",
       "      <th>...</th>\n",
       "      <th>toi_4_per_games_4</th>\n",
       "      <th>assists_5_per_games_5</th>\n",
       "      <th>attempted_shots_5_per_games_5</th>\n",
       "      <th>goals_5_per_games_5</th>\n",
       "      <th>onice_attempts_5_per_games_5</th>\n",
       "      <th>pp_toi_5_per_games_5</th>\n",
       "      <th>shots_on_goal_5_per_games_5</th>\n",
       "      <th>toi_5_per_games_5</th>\n",
       "      <th>recent_team_attempts_per_game</th>\n",
       "      <th>recent_team_goals_per_game</th>\n",
       "    </tr>\n",
       "    <tr>\n",
       "      <th>window</th>\n",
       "      <th>player_id</th>\n",
       "      <th></th>\n",
       "      <th></th>\n",
       "      <th></th>\n",
       "      <th></th>\n",
       "      <th></th>\n",
       "      <th></th>\n",
       "      <th></th>\n",
       "      <th></th>\n",
       "      <th></th>\n",
       "      <th></th>\n",
       "      <th></th>\n",
       "      <th></th>\n",
       "      <th></th>\n",
       "      <th></th>\n",
       "      <th></th>\n",
       "      <th></th>\n",
       "      <th></th>\n",
       "      <th></th>\n",
       "      <th></th>\n",
       "      <th></th>\n",
       "      <th></th>\n",
       "    </tr>\n",
       "  </thead>\n",
       "  <tbody>\n",
       "    <tr>\n",
       "      <th rowspan=\"5\" valign=\"top\">5</th>\n",
       "      <th>8466148</th>\n",
       "      <td>0.518519</td>\n",
       "      <td>0.296296</td>\n",
       "      <td>2.629630</td>\n",
       "      <td>1</td>\n",
       "      <td>185.42</td>\n",
       "      <td>207.0</td>\n",
       "      <td>12084</td>\n",
       "      <td>146023056</td>\n",
       "      <td>0.666667</td>\n",
       "      <td>5.111111</td>\n",
       "      <td>...</td>\n",
       "      <td>1126.588235</td>\n",
       "      <td>0.333333</td>\n",
       "      <td>4.238095</td>\n",
       "      <td>0.380952</td>\n",
       "      <td>20.142857</td>\n",
       "      <td>158.904762</td>\n",
       "      <td>2.809524</td>\n",
       "      <td>1195.047619</td>\n",
       "      <td>54.191606</td>\n",
       "      <td>3.131387</td>\n",
       "    </tr>\n",
       "    <tr>\n",
       "      <th>8465058</th>\n",
       "      <td>0.185185</td>\n",
       "      <td>0.037037</td>\n",
       "      <td>1.000000</td>\n",
       "      <td>0</td>\n",
       "      <td>185.42</td>\n",
       "      <td>210.0</td>\n",
       "      <td>12215</td>\n",
       "      <td>149206225</td>\n",
       "      <td>0.269231</td>\n",
       "      <td>1.846154</td>\n",
       "      <td>...</td>\n",
       "      <td>1199.315789</td>\n",
       "      <td>0.350000</td>\n",
       "      <td>2.750000</td>\n",
       "      <td>0.100000</td>\n",
       "      <td>23.750000</td>\n",
       "      <td>215.650000</td>\n",
       "      <td>0.800000</td>\n",
       "      <td>1366.250000</td>\n",
       "      <td>54.521898</td>\n",
       "      <td>2.713504</td>\n",
       "    </tr>\n",
       "    <tr>\n",
       "      <th>8466285</th>\n",
       "      <td>0.535714</td>\n",
       "      <td>0.035714</td>\n",
       "      <td>1.571429</td>\n",
       "      <td>0</td>\n",
       "      <td>177.80</td>\n",
       "      <td>192.0</td>\n",
       "      <td>11953</td>\n",
       "      <td>142874209</td>\n",
       "      <td>0.481481</td>\n",
       "      <td>2.629630</td>\n",
       "      <td>...</td>\n",
       "      <td>1441.083333</td>\n",
       "      <td>0.411765</td>\n",
       "      <td>2.823529</td>\n",
       "      <td>0.058824</td>\n",
       "      <td>20.941176</td>\n",
       "      <td>140.000000</td>\n",
       "      <td>1.294118</td>\n",
       "      <td>1325.352941</td>\n",
       "      <td>52.860294</td>\n",
       "      <td>2.413603</td>\n",
       "    </tr>\n",
       "    <tr>\n",
       "      <th>8470607</th>\n",
       "      <td>0.296296</td>\n",
       "      <td>0.148148</td>\n",
       "      <td>2.111111</td>\n",
       "      <td>0</td>\n",
       "      <td>190.50</td>\n",
       "      <td>220.0</td>\n",
       "      <td>9794</td>\n",
       "      <td>95922436</td>\n",
       "      <td>0.370370</td>\n",
       "      <td>3.962963</td>\n",
       "      <td>...</td>\n",
       "      <td>1432.833333</td>\n",
       "      <td>0.466667</td>\n",
       "      <td>3.633333</td>\n",
       "      <td>0.066667</td>\n",
       "      <td>25.033333</td>\n",
       "      <td>156.500000</td>\n",
       "      <td>1.566667</td>\n",
       "      <td>1498.500000</td>\n",
       "      <td>54.191606</td>\n",
       "      <td>3.131387</td>\n",
       "    </tr>\n",
       "    <tr>\n",
       "      <th>8474668</th>\n",
       "      <td>0.066667</td>\n",
       "      <td>0.066667</td>\n",
       "      <td>0.600000</td>\n",
       "      <td>1</td>\n",
       "      <td>187.96</td>\n",
       "      <td>206.0</td>\n",
       "      <td>8591</td>\n",
       "      <td>73805281</td>\n",
       "      <td>0.038462</td>\n",
       "      <td>1.038462</td>\n",
       "      <td>...</td>\n",
       "      <td>390.300000</td>\n",
       "      <td>NaN</td>\n",
       "      <td>NaN</td>\n",
       "      <td>NaN</td>\n",
       "      <td>NaN</td>\n",
       "      <td>NaN</td>\n",
       "      <td>NaN</td>\n",
       "      <td>NaN</td>\n",
       "      <td>55.761029</td>\n",
       "      <td>3.205882</td>\n",
       "    </tr>\n",
       "  </tbody>\n",
       "</table>\n",
       "<p>5 rows × 45 columns</p>\n",
       "</div>"
      ],
      "text/plain": [
       "                  assists_per_games  goals_per_games  shots_on_goal_per_games  \\\n",
       "window player_id                                                                \n",
       "5      8466148             0.518519         0.296296                 2.629630   \n",
       "       8465058             0.185185         0.037037                 1.000000   \n",
       "       8466285             0.535714         0.035714                 1.571429   \n",
       "       8470607             0.296296         0.148148                 2.111111   \n",
       "       8474668             0.066667         0.066667                 0.600000   \n",
       "\n",
       "                  isForward  height_cm  weight    age  age_squared  \\\n",
       "window player_id                                                     \n",
       "5      8466148            1     185.42   207.0  12084    146023056   \n",
       "       8465058            0     185.42   210.0  12215    149206225   \n",
       "       8466285            0     177.80   192.0  11953    142874209   \n",
       "       8470607            0     190.50   220.0   9794     95922436   \n",
       "       8474668            1     187.96   206.0   8591     73805281   \n",
       "\n",
       "                  assists_1_per_games_1  attempted_shots_1_per_games_1  ...  \\\n",
       "window player_id                                                        ...   \n",
       "5      8466148                 0.666667                       5.111111  ...   \n",
       "       8465058                 0.269231                       1.846154  ...   \n",
       "       8466285                 0.481481                       2.629630  ...   \n",
       "       8470607                 0.370370                       3.962963  ...   \n",
       "       8474668                 0.038462                       1.038462  ...   \n",
       "\n",
       "                  toi_4_per_games_4  assists_5_per_games_5  \\\n",
       "window player_id                                             \n",
       "5      8466148          1126.588235               0.333333   \n",
       "       8465058          1199.315789               0.350000   \n",
       "       8466285          1441.083333               0.411765   \n",
       "       8470607          1432.833333               0.466667   \n",
       "       8474668           390.300000                    NaN   \n",
       "\n",
       "                  attempted_shots_5_per_games_5  goals_5_per_games_5  \\\n",
       "window player_id                                                       \n",
       "5      8466148                         4.238095             0.380952   \n",
       "       8465058                         2.750000             0.100000   \n",
       "       8466285                         2.823529             0.058824   \n",
       "       8470607                         3.633333             0.066667   \n",
       "       8474668                              NaN                  NaN   \n",
       "\n",
       "                  onice_attempts_5_per_games_5  pp_toi_5_per_games_5  \\\n",
       "window player_id                                                       \n",
       "5      8466148                       20.142857            158.904762   \n",
       "       8465058                       23.750000            215.650000   \n",
       "       8466285                       20.941176            140.000000   \n",
       "       8470607                       25.033333            156.500000   \n",
       "       8474668                             NaN                   NaN   \n",
       "\n",
       "                  shots_on_goal_5_per_games_5  toi_5_per_games_5  \\\n",
       "window player_id                                                   \n",
       "5      8466148                       2.809524        1195.047619   \n",
       "       8465058                       0.800000        1366.250000   \n",
       "       8466285                       1.294118        1325.352941   \n",
       "       8470607                       1.566667        1498.500000   \n",
       "       8474668                            NaN                NaN   \n",
       "\n",
       "                  recent_team_attempts_per_game  recent_team_goals_per_game  \n",
       "window player_id                                                             \n",
       "5      8466148                        54.191606                    3.131387  \n",
       "       8465058                        54.521898                    2.713504  \n",
       "       8466285                        52.860294                    2.413603  \n",
       "       8470607                        54.191606                    3.131387  \n",
       "       8474668                        55.761029                    3.205882  \n",
       "\n",
       "[5 rows x 45 columns]"
      ]
     },
     "execution_count": 32,
     "metadata": {},
     "output_type": "execute_result"
    }
   ],
   "source": [
    "df_final = df[['player_id', 'window', 'assists_per_games','goals_per_games',\n",
    "       'shots_on_goal_per_games', 'isForward', 'height_cm',\n",
    "       'weight', 'age', 'age_squared', 'assists_1_per_games_1', 'attempted_shots_1_per_games_1',\n",
    "       'goals_1_per_games_1', 'onice_attempts_1_per_games_1',\n",
    "       'pp_toi_1_per_games_1', 'shots_on_goal_1_per_games_1',\n",
    "       'toi_1_per_games_1', 'assists_2_per_games_2',\n",
    "       'attempted_shots_2_per_games_2', 'goals_2_per_games_2',\n",
    "       'onice_attempts_2_per_games_2', 'pp_toi_2_per_games_2',\n",
    "       'shots_on_goal_2_per_games_2', 'toi_2_per_games_2',\n",
    "       'assists_3_per_games_3', 'attempted_shots_3_per_games_3',\n",
    "       'goals_3_per_games_3', 'onice_attempts_3_per_games_3',\n",
    "       'pp_toi_3_per_games_3', 'shots_on_goal_3_per_games_3',\n",
    "       'toi_3_per_games_3', 'assists_4_per_games_4',\n",
    "       'attempted_shots_4_per_games_4', 'goals_4_per_games_4',\n",
    "       'onice_attempts_4_per_games_4', 'pp_toi_4_per_games_4',\n",
    "       'shots_on_goal_4_per_games_4', 'toi_4_per_games_4',\n",
    "       'assists_5_per_games_5', 'attempted_shots_5_per_games_5',\n",
    "       'goals_5_per_games_5', 'onice_attempts_5_per_games_5',\n",
    "       'pp_toi_5_per_games_5', 'shots_on_goal_5_per_games_5',\n",
    "       'toi_5_per_games_5', 'recent_team_attempts_per_game',\n",
    "       'recent_team_goals_per_game']].set_index(['window', 'player_id'])\n",
    "\n",
    "df_final.head()"
   ]
  },
  {
   "cell_type": "markdown",
   "metadata": {},
   "source": [
    "## 7 Test train split<a id='7_Test_train_split'></a>"
   ]
  },
  {
   "cell_type": "markdown",
   "metadata": {},
   "source": [
    "We start by defining X and Y. (For now, we are keeping a Y with multiple columns. In our model-training phase, we can select which column to serve as our y variable.)"
   ]
  },
  {
   "cell_type": "code",
   "execution_count": 33,
   "metadata": {},
   "outputs": [],
   "source": [
    "Y = df_final[['assists_per_games', 'goals_per_games', 'shots_on_goal_per_games']]\n",
    "X = df_final.drop(columns=['assists_per_games', 'goals_per_games', 'shots_on_goal_per_games'])"
   ]
  },
  {
   "cell_type": "code",
   "execution_count": 34,
   "metadata": {},
   "outputs": [
    {
     "data": {
      "text/plain": [
       "(14188, 42)"
      ]
     },
     "execution_count": 34,
     "metadata": {},
     "output_type": "execute_result"
    }
   ],
   "source": [
    "X.shape"
   ]
  },
  {
   "cell_type": "code",
   "execution_count": 35,
   "metadata": {},
   "outputs": [
    {
     "data": {
      "text/plain": [
       "(14188, 3)"
      ]
     },
     "execution_count": 35,
     "metadata": {},
     "output_type": "execute_result"
    }
   ],
   "source": [
    "Y.shape"
   ]
  },
  {
   "cell_type": "markdown",
   "metadata": {},
   "source": [
    "We would like to split up our test data in two ways: in order to see how our model will do on data from the future, we would like to limit our training to all but the last two windows, reserving the last two windows for testing. However, to avoid any bias from those particular windows, we also take a random subset for testing."
   ]
  },
  {
   "cell_type": "code",
   "execution_count": 36,
   "metadata": {},
   "outputs": [
    {
     "data": {
      "text/plain": [
       "((1302, 42), (1302, 3))"
      ]
     },
     "execution_count": 36,
     "metadata": {},
     "output_type": "execute_result"
    }
   ],
   "source": [
    "X_lastwindows = X.loc[[26, 27]]\n",
    "X_firstwindows = X.loc[5:25]\n",
    "Y_lastwindows = Y.loc[[26, 27]]\n",
    "Y_firstwindows = Y.loc[5:25]\n",
    "\n",
    "X_lastwindows.shape, Y_lastwindows.shape"
   ]
  },
  {
   "cell_type": "code",
   "execution_count": 37,
   "metadata": {},
   "outputs": [
    {
     "data": {
      "text/plain": [
       "0.09176769100648435"
      ]
     },
     "execution_count": 37,
     "metadata": {},
     "output_type": "execute_result"
    }
   ],
   "source": [
    "1302/14188"
   ]
  },
  {
   "cell_type": "markdown",
   "metadata": {},
   "source": [
    "We've separated off 9% of our data into Y_lastwindows, so let's separate off another 12% randomly for testing."
   ]
  },
  {
   "cell_type": "code",
   "execution_count": 38,
   "metadata": {},
   "outputs": [],
   "source": [
    "X_train, X_test, Y_train, Y_test = train_test_split(X_firstwindows, Y_firstwindows, test_size=0.12, random_state=37)"
   ]
  },
  {
   "cell_type": "code",
   "execution_count": 39,
   "metadata": {},
   "outputs": [
    {
     "data": {
      "text/plain": [
       "((11339, 42), (1547, 42), (11339, 3), (1547, 3))"
      ]
     },
     "execution_count": 39,
     "metadata": {},
     "output_type": "execute_result"
    }
   ],
   "source": [
    "X_train.shape, X_test.shape, Y_train.shape, Y_test.shape"
   ]
  },
  {
   "cell_type": "markdown",
   "metadata": {},
   "source": [
    "## 8 Imputing<a id='8_Imputing'></a>"
   ]
  },
  {
   "cell_type": "markdown",
   "metadata": {},
   "source": [
    "Because there have been new teams added to the league, we are missing team data for a number of entries."
   ]
  },
  {
   "cell_type": "code",
   "execution_count": 40,
   "metadata": {},
   "outputs": [
    {
     "data": {
      "text/plain": [
       "212"
      ]
     },
     "execution_count": 40,
     "metadata": {},
     "output_type": "execute_result"
    }
   ],
   "source": [
    "X_train[X_train[['recent_team_attempts_per_game', 'recent_team_goals_per_game']].T.isna().any()].shape[0]"
   ]
  },
  {
   "cell_type": "code",
   "execution_count": 41,
   "metadata": {},
   "outputs": [
    {
     "data": {
      "text/plain": [
       "42"
      ]
     },
     "execution_count": 41,
     "metadata": {},
     "output_type": "execute_result"
    }
   ],
   "source": [
    "X_test[X_test[['recent_team_attempts_per_game', 'recent_team_goals_per_game']].T.isna().any()].shape[0]"
   ]
  },
  {
   "cell_type": "code",
   "execution_count": 42,
   "metadata": {},
   "outputs": [
    {
     "data": {
      "text/plain": [
       "0"
      ]
     },
     "execution_count": 42,
     "metadata": {},
     "output_type": "execute_result"
    }
   ],
   "source": [
    "X_lastwindows[X_lastwindows[['recent_team_attempts_per_game', 'recent_team_goals_per_game']].T.isna().any()].shape[0]"
   ]
  },
  {
   "cell_type": "markdown",
   "metadata": {},
   "source": [
    "Let's fill in these missing values with the league average for the given window."
   ]
  },
  {
   "cell_type": "code",
   "execution_count": 45,
   "metadata": {},
   "outputs": [],
   "source": [
    "team_attempts_means = X_train.groupby('window').agg(mean_team_attempts=('recent_team_attempts_per_game', 'mean'))\n",
    "team_goals_means = X_train.groupby('window').agg(mean_team_goals=('recent_team_goals_per_game', 'mean'))\n",
    "\n",
    "team_attempts_fill_train = X_train.merge(team_attempts_means, how='inner', left_index=True, right_index=True)['mean_team_attempts']\n",
    "team_attempts_fill_test = X_test.merge(team_attempts_means, how='inner', left_index=True, right_index=True)['mean_team_attempts']\n",
    "team_goals_fill_train = X_train.merge(team_goals_means, how='inner', left_index=True, right_index=True)['mean_team_goals']\n",
    "team_goals_fill_test = X_test.merge(team_goals_means, how='inner', left_index=True, right_index=True)['mean_team_goals']\n",
    "\n",
    "X_train['recent_team_attempts_per_game'] = X_train['recent_team_attempts_per_game'].fillna(value=team_attempts_fill_train)\n",
    "X_train['recent_team_goals_per_game'] = X_train['recent_team_goals_per_game'].fillna(value=team_goals_fill_train)\n",
    "X_test['recent_team_attempts_per_game'] = X_test['recent_team_attempts_per_game'].fillna(value=team_attempts_fill_test)\n",
    "X_test['recent_team_goals_per_game'] = X_test['recent_team_goals_per_game'].fillna(value=team_goals_fill_test)"
   ]
  },
  {
   "cell_type": "code",
   "execution_count": 46,
   "metadata": {},
   "outputs": [
    {
     "data": {
      "text/html": [
       "<div>\n",
       "<style scoped>\n",
       "    .dataframe tbody tr th:only-of-type {\n",
       "        vertical-align: middle;\n",
       "    }\n",
       "\n",
       "    .dataframe tbody tr th {\n",
       "        vertical-align: top;\n",
       "    }\n",
       "\n",
       "    .dataframe thead th {\n",
       "        text-align: right;\n",
       "    }\n",
       "</style>\n",
       "<table border=\"1\" class=\"dataframe\">\n",
       "  <thead>\n",
       "    <tr style=\"text-align: right;\">\n",
       "      <th></th>\n",
       "      <th></th>\n",
       "      <th>isForward</th>\n",
       "      <th>height_cm</th>\n",
       "      <th>weight</th>\n",
       "      <th>age</th>\n",
       "      <th>age_squared</th>\n",
       "      <th>assists_1_per_games_1</th>\n",
       "      <th>attempted_shots_1_per_games_1</th>\n",
       "      <th>goals_1_per_games_1</th>\n",
       "      <th>onice_attempts_1_per_games_1</th>\n",
       "      <th>pp_toi_1_per_games_1</th>\n",
       "      <th>...</th>\n",
       "      <th>toi_4_per_games_4</th>\n",
       "      <th>assists_5_per_games_5</th>\n",
       "      <th>attempted_shots_5_per_games_5</th>\n",
       "      <th>goals_5_per_games_5</th>\n",
       "      <th>onice_attempts_5_per_games_5</th>\n",
       "      <th>pp_toi_5_per_games_5</th>\n",
       "      <th>shots_on_goal_5_per_games_5</th>\n",
       "      <th>toi_5_per_games_5</th>\n",
       "      <th>recent_team_attempts_per_game</th>\n",
       "      <th>recent_team_goals_per_game</th>\n",
       "    </tr>\n",
       "    <tr>\n",
       "      <th>window</th>\n",
       "      <th>player_id</th>\n",
       "      <th></th>\n",
       "      <th></th>\n",
       "      <th></th>\n",
       "      <th></th>\n",
       "      <th></th>\n",
       "      <th></th>\n",
       "      <th></th>\n",
       "      <th></th>\n",
       "      <th></th>\n",
       "      <th></th>\n",
       "      <th></th>\n",
       "      <th></th>\n",
       "      <th></th>\n",
       "      <th></th>\n",
       "      <th></th>\n",
       "      <th></th>\n",
       "      <th></th>\n",
       "      <th></th>\n",
       "      <th></th>\n",
       "      <th></th>\n",
       "      <th></th>\n",
       "    </tr>\n",
       "  </thead>\n",
       "  <tbody>\n",
       "  </tbody>\n",
       "</table>\n",
       "<p>0 rows × 42 columns</p>\n",
       "</div>"
      ],
      "text/plain": [
       "Empty DataFrame\n",
       "Columns: [isForward, height_cm, weight, age, age_squared, assists_1_per_games_1, attempted_shots_1_per_games_1, goals_1_per_games_1, onice_attempts_1_per_games_1, pp_toi_1_per_games_1, shots_on_goal_1_per_games_1, toi_1_per_games_1, assists_2_per_games_2, attempted_shots_2_per_games_2, goals_2_per_games_2, onice_attempts_2_per_games_2, pp_toi_2_per_games_2, shots_on_goal_2_per_games_2, toi_2_per_games_2, assists_3_per_games_3, attempted_shots_3_per_games_3, goals_3_per_games_3, onice_attempts_3_per_games_3, pp_toi_3_per_games_3, shots_on_goal_3_per_games_3, toi_3_per_games_3, assists_4_per_games_4, attempted_shots_4_per_games_4, goals_4_per_games_4, onice_attempts_4_per_games_4, pp_toi_4_per_games_4, shots_on_goal_4_per_games_4, toi_4_per_games_4, assists_5_per_games_5, attempted_shots_5_per_games_5, goals_5_per_games_5, onice_attempts_5_per_games_5, pp_toi_5_per_games_5, shots_on_goal_5_per_games_5, toi_5_per_games_5, recent_team_attempts_per_game, recent_team_goals_per_game]\n",
       "Index: []\n",
       "\n",
       "[0 rows x 42 columns]"
      ]
     },
     "execution_count": 46,
     "metadata": {},
     "output_type": "execute_result"
    }
   ],
   "source": [
    "X_train[X_train[['recent_team_attempts_per_game', 'recent_team_goals_per_game']].T.isna().any()]"
   ]
  },
  {
   "cell_type": "code",
   "execution_count": 47,
   "metadata": {},
   "outputs": [
    {
     "data": {
      "text/html": [
       "<div>\n",
       "<style scoped>\n",
       "    .dataframe tbody tr th:only-of-type {\n",
       "        vertical-align: middle;\n",
       "    }\n",
       "\n",
       "    .dataframe tbody tr th {\n",
       "        vertical-align: top;\n",
       "    }\n",
       "\n",
       "    .dataframe thead th {\n",
       "        text-align: right;\n",
       "    }\n",
       "</style>\n",
       "<table border=\"1\" class=\"dataframe\">\n",
       "  <thead>\n",
       "    <tr style=\"text-align: right;\">\n",
       "      <th></th>\n",
       "      <th></th>\n",
       "      <th>isForward</th>\n",
       "      <th>height_cm</th>\n",
       "      <th>weight</th>\n",
       "      <th>age</th>\n",
       "      <th>age_squared</th>\n",
       "      <th>assists_1_per_games_1</th>\n",
       "      <th>attempted_shots_1_per_games_1</th>\n",
       "      <th>goals_1_per_games_1</th>\n",
       "      <th>onice_attempts_1_per_games_1</th>\n",
       "      <th>pp_toi_1_per_games_1</th>\n",
       "      <th>...</th>\n",
       "      <th>toi_4_per_games_4</th>\n",
       "      <th>assists_5_per_games_5</th>\n",
       "      <th>attempted_shots_5_per_games_5</th>\n",
       "      <th>goals_5_per_games_5</th>\n",
       "      <th>onice_attempts_5_per_games_5</th>\n",
       "      <th>pp_toi_5_per_games_5</th>\n",
       "      <th>shots_on_goal_5_per_games_5</th>\n",
       "      <th>toi_5_per_games_5</th>\n",
       "      <th>recent_team_attempts_per_game</th>\n",
       "      <th>recent_team_goals_per_game</th>\n",
       "    </tr>\n",
       "    <tr>\n",
       "      <th>window</th>\n",
       "      <th>player_id</th>\n",
       "      <th></th>\n",
       "      <th></th>\n",
       "      <th></th>\n",
       "      <th></th>\n",
       "      <th></th>\n",
       "      <th></th>\n",
       "      <th></th>\n",
       "      <th></th>\n",
       "      <th></th>\n",
       "      <th></th>\n",
       "      <th></th>\n",
       "      <th></th>\n",
       "      <th></th>\n",
       "      <th></th>\n",
       "      <th></th>\n",
       "      <th></th>\n",
       "      <th></th>\n",
       "      <th></th>\n",
       "      <th></th>\n",
       "      <th></th>\n",
       "      <th></th>\n",
       "    </tr>\n",
       "  </thead>\n",
       "  <tbody>\n",
       "  </tbody>\n",
       "</table>\n",
       "<p>0 rows × 42 columns</p>\n",
       "</div>"
      ],
      "text/plain": [
       "Empty DataFrame\n",
       "Columns: [isForward, height_cm, weight, age, age_squared, assists_1_per_games_1, attempted_shots_1_per_games_1, goals_1_per_games_1, onice_attempts_1_per_games_1, pp_toi_1_per_games_1, shots_on_goal_1_per_games_1, toi_1_per_games_1, assists_2_per_games_2, attempted_shots_2_per_games_2, goals_2_per_games_2, onice_attempts_2_per_games_2, pp_toi_2_per_games_2, shots_on_goal_2_per_games_2, toi_2_per_games_2, assists_3_per_games_3, attempted_shots_3_per_games_3, goals_3_per_games_3, onice_attempts_3_per_games_3, pp_toi_3_per_games_3, shots_on_goal_3_per_games_3, toi_3_per_games_3, assists_4_per_games_4, attempted_shots_4_per_games_4, goals_4_per_games_4, onice_attempts_4_per_games_4, pp_toi_4_per_games_4, shots_on_goal_4_per_games_4, toi_4_per_games_4, assists_5_per_games_5, attempted_shots_5_per_games_5, goals_5_per_games_5, onice_attempts_5_per_games_5, pp_toi_5_per_games_5, shots_on_goal_5_per_games_5, toi_5_per_games_5, recent_team_attempts_per_game, recent_team_goals_per_game]\n",
       "Index: []\n",
       "\n",
       "[0 rows x 42 columns]"
      ]
     },
     "execution_count": 47,
     "metadata": {},
     "output_type": "execute_result"
    }
   ],
   "source": [
    "X_test[X_test[['recent_team_attempts_per_game', 'recent_team_goals_per_game']].T.isna().any()]"
   ]
  },
  {
   "cell_type": "markdown",
   "metadata": {},
   "source": [
    "Now let's see what columns still have missing data:"
   ]
  },
  {
   "cell_type": "code",
   "execution_count": 53,
   "metadata": {},
   "outputs": [
    {
     "data": {
      "text/plain": [
       "Index(['assists_1_per_games_1', 'attempted_shots_1_per_games_1',\n",
       "       'goals_1_per_games_1', 'onice_attempts_1_per_games_1',\n",
       "       'pp_toi_1_per_games_1', 'shots_on_goal_1_per_games_1',\n",
       "       'toi_1_per_games_1', 'assists_2_per_games_2',\n",
       "       'attempted_shots_2_per_games_2', 'goals_2_per_games_2',\n",
       "       'onice_attempts_2_per_games_2', 'pp_toi_2_per_games_2',\n",
       "       'shots_on_goal_2_per_games_2', 'toi_2_per_games_2',\n",
       "       'assists_3_per_games_3', 'attempted_shots_3_per_games_3',\n",
       "       'goals_3_per_games_3', 'onice_attempts_3_per_games_3',\n",
       "       'pp_toi_3_per_games_3', 'shots_on_goal_3_per_games_3',\n",
       "       'toi_3_per_games_3', 'assists_4_per_games_4',\n",
       "       'attempted_shots_4_per_games_4', 'goals_4_per_games_4',\n",
       "       'onice_attempts_4_per_games_4', 'pp_toi_4_per_games_4',\n",
       "       'shots_on_goal_4_per_games_4', 'toi_4_per_games_4',\n",
       "       'assists_5_per_games_5', 'attempted_shots_5_per_games_5',\n",
       "       'goals_5_per_games_5', 'onice_attempts_5_per_games_5',\n",
       "       'pp_toi_5_per_games_5', 'shots_on_goal_5_per_games_5',\n",
       "       'toi_5_per_games_5'],\n",
       "      dtype='object')"
      ]
     },
     "execution_count": 53,
     "metadata": {},
     "output_type": "execute_result"
    }
   ],
   "source": [
    "X_train.T[X_train.isna().any()].index"
   ]
  },
  {
   "cell_type": "code",
   "execution_count": 57,
   "metadata": {},
   "outputs": [],
   "source": [
    "cols_with_na = list(X_train.T[X_train.isna().any()].index)"
   ]
  },
  {
   "cell_type": "markdown",
   "metadata": {},
   "source": [
    "Let's see how many entries are missing all data from all five windows."
   ]
  },
  {
   "cell_type": "code",
   "execution_count": 67,
   "metadata": {},
   "outputs": [
    {
     "data": {
      "text/plain": [
       "(331, 52, 48)"
      ]
     },
     "execution_count": 67,
     "metadata": {},
     "output_type": "execute_result"
    }
   ],
   "source": [
    "X_train.loc[:, cols_with_na].isna().T.all().sum(), X_test.loc[:, cols_with_na].isna().T.all().sum(), X_lastwindows.loc[:, cols_with_na].isna().T.all().sum()"
   ]
  },
  {
   "cell_type": "markdown",
   "metadata": {},
   "source": [
    "These are each less than 5% of the rows in each division, so we can safely drop them."
   ]
  },
  {
   "cell_type": "code",
   "execution_count": 70,
   "metadata": {},
   "outputs": [],
   "source": [
    "X_train = X_train.dropna(how='all', subset=cols_with_na)\n",
    "X_test = X_test.dropna(how='all', subset=cols_with_na)\n",
    "X_lastwindows = X_lastwindows.dropna(how='all', subset=cols_with_na)"
   ]
  },
  {
   "cell_type": "code",
   "execution_count": 71,
   "metadata": {},
   "outputs": [
    {
     "data": {
      "text/plain": [
       "(0, 0, 0)"
      ]
     },
     "execution_count": 71,
     "metadata": {},
     "output_type": "execute_result"
    }
   ],
   "source": [
    "X_train.loc[:, cols_with_na].isna().T.all().sum(), X_test.loc[:, cols_with_na].isna().T.all().sum(), X_lastwindows.loc[:, cols_with_na].isna().T.all().sum()"
   ]
  },
  {
   "cell_type": "code",
   "execution_count": 72,
   "metadata": {},
   "outputs": [
    {
     "data": {
      "text/plain": [
       "(11008, 1495, 1254)"
      ]
     },
     "execution_count": 72,
     "metadata": {},
     "output_type": "execute_result"
    }
   ],
   "source": [
    "X_train.shape[0], X_test.shape[0], X_lastwindows.shape[0]"
   ]
  },
  {
   "cell_type": "markdown",
   "metadata": {},
   "source": [
    "Let's find the median values across the league as well as each player's median recent performance in each category, using the average of the two to fill in missing values."
   ]
  },
  {
   "cell_type": "code",
   "execution_count": 74,
   "metadata": {},
   "outputs": [],
   "source": [
    "def median_over_window(col):\n",
    "    train_medians = X_train.groupby('window').agg(median=(col, 'median'))\n",
    "    last_medians = X_lastwindows.groupby('window').agg(median=(col, 'median'))\n",
    "\n",
    "    med_train = X_train.merge(train_medians, how='inner', left_index=True, right_index=True)['median']\n",
    "    med_test = X_test.merge(train_medians, how='inner', left_index=True, right_index=True)['median']\n",
    "    med_last = X_lastwindows.merge(last_medians, how='inner', left_index=True, right_index=True)['median']\n",
    "\n",
    "    return med_train, med_test, med_last"
   ]
  },
  {
   "cell_type": "code",
   "execution_count": 79,
   "metadata": {},
   "outputs": [],
   "source": [
    "stats = ['assists', 'attempted_shots', 'goals', 'onice_attempts', 'pp_toi', 'shots_on_goal', 'toi']\n",
    "\n",
    "for stat in stats:\n",
    "    stat_cols = [stat + '_' + str(i) + '_per_games_' + str(i) for i in range(1,6)]\n",
    "    train_meds = X_train.loc[:,stat_cols].median(axis=1)\n",
    "    test_meds = X_test.loc[:,stat_cols].median(axis=1)\n",
    "    last_meds = X_lastwindows.loc[:,stat_cols].median(axis=1)\n",
    "    for col in stat_cols:\n",
    "        league_med_train, league_med_test, league_med_last = median_over_window(col)\n",
    "        fill_train = (train_meds + league_med_train) / 2\n",
    "        fill_test = (test_meds + league_med_test) / 2\n",
    "        fill_last = (last_meds + league_med_last) / 2\n",
    "        X_train[col] = X_train[col].fillna(value=fill_train)\n",
    "        X_test[col] = X_test[col].fillna(value=fill_test)\n",
    "        X_lastwindows[col] = X_lastwindows[col].fillna(value=fill_last)"
   ]
  },
  {
   "cell_type": "code",
   "execution_count": 81,
   "metadata": {},
   "outputs": [
    {
     "data": {
      "text/plain": [
       "isForward                          0\n",
       "height_cm                          0\n",
       "weight                             0\n",
       "age                                0\n",
       "age_squared                        0\n",
       "assists_1_per_games_1            278\n",
       "attempted_shots_1_per_games_1     13\n",
       "goals_1_per_games_1              524\n",
       "onice_attempts_1_per_games_1       0\n",
       "pp_toi_1_per_games_1               0\n",
       "shots_on_goal_1_per_games_1       25\n",
       "toi_1_per_games_1                  0\n",
       "assists_2_per_games_2            278\n",
       "attempted_shots_2_per_games_2     13\n",
       "goals_2_per_games_2              524\n",
       "onice_attempts_2_per_games_2       0\n",
       "pp_toi_2_per_games_2               0\n",
       "shots_on_goal_2_per_games_2       25\n",
       "toi_2_per_games_2                  0\n",
       "assists_3_per_games_3            278\n",
       "attempted_shots_3_per_games_3     13\n",
       "goals_3_per_games_3              524\n",
       "onice_attempts_3_per_games_3       0\n",
       "pp_toi_3_per_games_3               0\n",
       "shots_on_goal_3_per_games_3       25\n",
       "toi_3_per_games_3                  0\n",
       "assists_4_per_games_4            278\n",
       "attempted_shots_4_per_games_4     13\n",
       "goals_4_per_games_4              524\n",
       "onice_attempts_4_per_games_4       0\n",
       "pp_toi_4_per_games_4               0\n",
       "shots_on_goal_4_per_games_4       25\n",
       "toi_4_per_games_4                  0\n",
       "assists_5_per_games_5            278\n",
       "attempted_shots_5_per_games_5     13\n",
       "goals_5_per_games_5              524\n",
       "onice_attempts_5_per_games_5       0\n",
       "pp_toi_5_per_games_5               0\n",
       "shots_on_goal_5_per_games_5       25\n",
       "toi_5_per_games_5                  0\n",
       "recent_team_attempts_per_game      0\n",
       "recent_team_goals_per_game         0\n",
       "dtype: int64"
      ]
     },
     "execution_count": 81,
     "metadata": {},
     "output_type": "execute_result"
    }
   ],
   "source": [
    "X_train.isna().sum()"
   ]
  },
  {
   "cell_type": "markdown",
   "metadata": {},
   "source": [
    "These values look like they are missing because a player had some time played, but did not register any of the given stat in the window. Let's fill these in with 0s."
   ]
  },
  {
   "cell_type": "code",
   "execution_count": 86,
   "metadata": {},
   "outputs": [],
   "source": [
    "X_train = X_train.fillna(value=0)\n",
    "X_test = X_test.fillna(value=0)\n",
    "X_lastwindows = X_lastwindows.fillna(value=0)"
   ]
  },
  {
   "cell_type": "code",
   "execution_count": 88,
   "metadata": {},
   "outputs": [
    {
     "data": {
      "text/plain": [
       "(0, 0, 0)"
      ]
     },
     "execution_count": 88,
     "metadata": {},
     "output_type": "execute_result"
    }
   ],
   "source": [
    "X_train.isna().any().sum(), X_test.isna().any().sum(), X_lastwindows.isna().any().sum()"
   ]
  },
  {
   "cell_type": "markdown",
   "metadata": {},
   "source": [
    "We can do the same for the Y values too, since we built X and Y to include only rows where the player had at least 10 games played in the window."
   ]
  },
  {
   "cell_type": "code",
   "execution_count": 100,
   "metadata": {},
   "outputs": [],
   "source": [
    "Y_train = Y_train.fillna(value=0)\n",
    "Y_test = Y_test.fillna(value=0)\n",
    "Y_lastwindows = Y_lastwindows.fillna(value=0)"
   ]
  },
  {
   "cell_type": "markdown",
   "metadata": {},
   "source": [
    "## 9 Save the data<a id='9_Save_the_data'></a>"
   ]
  },
  {
   "cell_type": "code",
   "execution_count": 101,
   "metadata": {},
   "outputs": [
    {
     "name": "stdout",
     "output_type": "stream",
     "text": [
      "Writing file.  \"../data/processed/X_train.csv\"\n",
      "Writing file.  \"../data/processed/Y_train.csv\"\n",
      "Writing file.  \"../data/processed/X_test.csv\"\n",
      "Writing file.  \"../data/processed/Y_test.csv\"\n",
      "Writing file.  \"../data/processed/X_lastwindows.csv\"\n",
      "Writing file.  \"../data/processed/Y_lastwindows.csv\"\n"
     ]
    }
   ],
   "source": [
    "datapath = '../data/processed/'\n",
    "\n",
    "dataframes = [X_train, Y_train, X_test, Y_test, X_lastwindows, Y_lastwindows]\n",
    "\n",
    "names = ['X_train', 'Y_train', 'X_test', 'Y_test', 'X_lastwindows', 'Y_lastwindows']\n",
    "\n",
    "for df, name in zip(dataframes, names):\n",
    "    save_file(df, name + '.csv', datapath)"
   ]
  },
  {
   "cell_type": "markdown",
   "metadata": {},
   "source": [
    "## 10 Summary<a id='11_Summary'></a>"
   ]
  },
  {
   "cell_type": "markdown",
   "metadata": {},
   "source": [
    "In this notebook we reorganized our data to be better suited for modeling, created our features, split the training data from test data, and imputed missing values. We will normalize before training our models in the next notebook."
   ]
  }
 ],
 "metadata": {
  "kernelspec": {
   "display_name": "TestEnv",
   "language": "python",
   "name": "python3"
  },
  "language_info": {
   "codemirror_mode": {
    "name": "ipython",
    "version": 3
   },
   "file_extension": ".py",
   "mimetype": "text/x-python",
   "name": "python",
   "nbconvert_exporter": "python",
   "pygments_lexer": "ipython3",
   "version": "3.12.0"
  }
 },
 "nbformat": 4,
 "nbformat_minor": 2
}
